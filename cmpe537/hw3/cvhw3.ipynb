{
  "nbformat": 4,
  "nbformat_minor": 0,
  "metadata": {
    "colab": {
      "name": "cvhw3.ipynb",
      "provenance": []
    },
    "kernelspec": {
      "name": "python3",
      "display_name": "Python 3"
    },
    "accelerator": "GPU"
  },
  "cells": [
    {
      "cell_type": "code",
      "metadata": {
        "id": "gflI1MbqbDwA",
        "colab_type": "code",
        "outputId": "4ede8f41-a0f9-49b2-cd4d-a16ad9c5395d",
        "colab": {
          "base_uri": "https://localhost:8080/",
          "height": 53
        }
      },
      "source": [
        "import numpy as np\n",
        "\n",
        "!pip install opencv-contrib-python==3.4.2.16\n",
        "import cv2 as cv\n",
        "\n",
        "import os\n",
        "\n",
        "from collections import Counter\n",
        "\n",
        "from sklearn.cluster import KMeans\n",
        "from sklearn.preprocessing import normalize\n",
        "from sklearn import svm\n",
        "from sklearn.metrics import accuracy_score\n",
        "from sklearn.metrics.pairwise import chi2_kernel\n",
        "from sklearn.model_selection import GridSearchCV\n",
        "from sklearn.metrics import confusion_matrix\n"
      ],
      "execution_count": 2,
      "outputs": [
        {
          "output_type": "stream",
          "text": [
            "Requirement already satisfied: opencv-contrib-python==3.4.2.16 in /usr/local/lib/python3.6/dist-packages (3.4.2.16)\n",
            "Requirement already satisfied: numpy>=1.11.3 in /usr/local/lib/python3.6/dist-packages (from opencv-contrib-python==3.4.2.16) (1.17.4)\n"
          ],
          "name": "stdout"
        }
      ]
    },
    {
      "cell_type": "code",
      "metadata": {
        "id": "2LWsT6nlzhOH",
        "colab_type": "code",
        "outputId": "088d19a2-8f23-4e66-db65-bb6bd8907bdc",
        "colab": {
          "base_uri": "https://localhost:8080/",
          "height": 53
        }
      },
      "source": [
        "\n",
        "!wget --quiet http://www.cmpe.boun.edu.tr/pilab/pilabfiles/assignments/hw4-dataset.zip\n",
        "!unzip hw4-dataset.zip\n",
        "!ls"
      ],
      "execution_count": 3,
      "outputs": [
        {
          "output_type": "stream",
          "text": [
            "hw4-dataset.zip    hw4-dataset.zip.2  sample_data  train\n",
            "hw4-dataset.zip.1  hw4-dataset.zip.3  test\n"
          ],
          "name": "stdout"
        }
      ]
    },
    {
      "cell_type": "code",
      "metadata": {
        "id": "bl_oUex-fYih",
        "colab_type": "code",
        "colab": {}
      },
      "source": [
        "sift = cv.xfeatures2d.SIFT_create(nfeatures=500)\n",
        "\n",
        "def get_features(path):\n",
        "    img = cv.imread(path)\n",
        "    gray = cv.cvtColor(img, cv.COLOR_BGR2GRAY)\n",
        "    kp = sift.detect(gray, None)\n",
        "    kp, des = sift.compute(gray, kp)\n",
        "    return des"
      ],
      "execution_count": 0,
      "outputs": []
    },
    {
      "cell_type": "code",
      "metadata": {
        "id": "xNlvcKbafYyr",
        "colab_type": "code",
        "colab": {}
      },
      "source": [
        "sifts = []\n",
        "correspounding_image_data = []\n",
        "sep = os.path.sep\n",
        "for root, dirs, files in os.walk(\"train\", topdown=True):\n",
        "    if dirs:\n",
        "        class_names = dirs\n",
        "        num_categories = len(dirs)\n",
        "    if files:\n",
        "        dir_name = root.split(sep)[-1]\n",
        "        for fname in files:\n",
        "            path = os.path.join(root, fname)\n",
        "            features = get_features(path)\n",
        "            sifts.append(features)\n",
        "            # all_features.extend(features)\n",
        "            correspounding_image_data.append((dir_name, fname, len(features)))\n"
      ],
      "execution_count": 0,
      "outputs": []
    },
    {
      "cell_type": "code",
      "metadata": {
        "id": "DfU23ZfJM5uY",
        "colab_type": "code",
        "outputId": "84fcfacf-25d6-4879-90b9-5a85688df143",
        "colab": {
          "base_uri": "https://localhost:8080/",
          "height": 35
        }
      },
      "source": [
        "all_features = np.concatenate(sifts,axis=0)\n",
        "print(all_features.shape)"
      ],
      "execution_count": 6,
      "outputs": [
        {
          "output_type": "stream",
          "text": [
            "(345423, 128)\n"
          ],
          "name": "stdout"
        }
      ]
    },
    {
      "cell_type": "code",
      "metadata": {
        "id": "uroPM6uzfZZx",
        "colab_type": "code",
        "colab": {}
      },
      "source": [
        "def to_hist(counter, k):\n",
        "    arr = np.array([counter[i] for i in range(k)],dtype=np.float)\n",
        "    # default is l2 == normalize to unit length equivalent of arr/np.sqrt((arr**2).sum())\n",
        "    # but chi square is usually used with l1 see https://scikit-learn.org/stable/modules/metrics.html#chi-squared-kernel\n",
        "    return  normalize(arr.reshape(-1,1), norm='l1', axis=0).flatten()"
      ],
      "execution_count": 0,
      "outputs": []
    },
    {
      "cell_type": "code",
      "metadata": {
        "id": "7DNgCx18fZcx",
        "colab_type": "code",
        "outputId": "21a368c6-514a-4a26-cea2-93a191cf6e89",
        "colab": {
          "base_uri": "https://localhost:8080/",
          "height": 70
        }
      },
      "source": [
        "k = 100\n",
        "kmeans = KMeans(n_clusters = k)\n",
        "kmeans.fit(all_features)"
      ],
      "execution_count": 8,
      "outputs": [
        {
          "output_type": "execute_result",
          "data": {
            "text/plain": [
              "KMeans(algorithm='auto', copy_x=True, init='k-means++', max_iter=300,\n",
              "       n_clusters=100, n_init=10, n_jobs=None, precompute_distances='auto',\n",
              "       random_state=None, tol=0.0001, verbose=0)"
            ]
          },
          "metadata": {
            "tags": []
          },
          "execution_count": 8
        }
      ]
    },
    {
      "cell_type": "code",
      "metadata": {
        "id": "TW2y1oRVuuVu",
        "colab_type": "code",
        "colab": {}
      },
      "source": [
        "train_imgs_with_hists = [] # dir_name==label, image_name, histogram==features\n",
        "start = 0\n",
        "for dn, fn, num in correspounding_image_data:\n",
        "    ids = kmeans.labels_[start:start+num]\n",
        "    train_imgs_with_hists.append((dn,fn,to_hist(Counter(ids),k)))\n",
        "    start+=num\n",
        "        \n",
        "        "
      ],
      "execution_count": 0,
      "outputs": []
    },
    {
      "cell_type": "code",
      "metadata": {
        "id": "6tlmsKftuulI",
        "colab_type": "code",
        "outputId": "44acf9f9-614d-4629-e502-724e7dee948b",
        "colab": {
          "base_uri": "https://localhost:8080/",
          "height": 35
        }
      },
      "source": [
        "codewords = kmeans.cluster_centers_\n",
        "len(codewords)"
      ],
      "execution_count": 10,
      "outputs": [
        {
          "output_type": "execute_result",
          "data": {
            "text/plain": [
              "100"
            ]
          },
          "metadata": {
            "tags": []
          },
          "execution_count": 10
        }
      ]
    },
    {
      "cell_type": "code",
      "metadata": {
        "id": "MtVhC4v9uuxo",
        "colab_type": "code",
        "colab": {}
      },
      "source": [
        "test_imgs_with_hists = [] # dir_name==label, image_name, histogram==features\n",
        "sep = os.path.sep\n",
        "for root, dirs, files in os.walk(\"test\", topdown=True):\n",
        "    if dirs:\n",
        "        num_categories = len(dirs)\n",
        "    if files:\n",
        "        dir_name = root.split(sep)[-1]\n",
        "        for fname in files:\n",
        "            path = os.path.join(root, fname)\n",
        "            features = get_features(path)\n",
        "            labels_of_vectors = kmeans.predict(features)\n",
        "            test_imgs_with_hists.append((dir_name, fname, to_hist(Counter(labels_of_vectors),k)))"
      ],
      "execution_count": 0,
      "outputs": []
    },
    {
      "cell_type": "code",
      "metadata": {
        "id": "nokx6lpEu4Z5",
        "colab_type": "code",
        "colab": {}
      },
      "source": [
        "y, _, X = zip(*train_imgs_with_hists) # zip trick, equivalent of :\n",
        "# X = [x[2] for x in train_imgs_with_hists]\n",
        "# y = [x[0] for x in train_imgs_with_hists]"
      ],
      "execution_count": 0,
      "outputs": []
    },
    {
      "cell_type": "code",
      "metadata": {
        "id": "M9T5cKdevG9o",
        "colab_type": "code",
        "outputId": "e0697ce4-52e4-43ab-db4a-17418387913b",
        "colab": {
          "base_uri": "https://localhost:8080/",
          "height": 35
        }
      },
      "source": [
        "parameters = {'kernel':( 'linear', 'rbf', chi2_kernel), 'C':list(range(1,15))}\n",
        "svc = svm.SVC(gamma='scale')\n",
        "grids = GridSearchCV(svc, parameters, cv=5, iid=False)\n",
        "best_results = grids.fit(X, y)\n",
        "best_results.best_params_"
      ],
      "execution_count": 13,
      "outputs": [
        {
          "output_type": "execute_result",
          "data": {
            "text/plain": [
              "{'C': 5, 'kernel': <function sklearn.metrics.pairwise.chi2_kernel>}"
            ]
          },
          "metadata": {
            "tags": []
          },
          "execution_count": 13
        }
      ]
    },
    {
      "cell_type": "code",
      "metadata": {
        "id": "lWE33NS_u4jL",
        "colab_type": "code",
        "outputId": "5a6d8486-ab0b-4821-cec6-ecf9c1645d98",
        "colab": {
          "base_uri": "https://localhost:8080/",
          "height": 106
        }
      },
      "source": [
        "clf = svm.SVC(kernel=chi2_kernel,C=5)\n",
        "clf.fit(X, y)"
      ],
      "execution_count": 14,
      "outputs": [
        {
          "output_type": "execute_result",
          "data": {
            "text/plain": [
              "SVC(C=5, cache_size=200, class_weight=None, coef0=0.0,\n",
              "    decision_function_shape='ovr', degree=3, gamma='auto_deprecated',\n",
              "    kernel=<function chi2_kernel at 0x7f40695c9a60>, max_iter=-1,\n",
              "    probability=False, random_state=None, shrinking=True, tol=0.001,\n",
              "    verbose=False)"
            ]
          },
          "metadata": {
            "tags": []
          },
          "execution_count": 14
        }
      ]
    },
    {
      "cell_type": "code",
      "metadata": {
        "id": "NNq7So2rhsSW",
        "colab_type": "code",
        "outputId": "cb94ac57-e106-4c9f-98cd-cbdd2d3164dd",
        "colab": {
          "base_uri": "https://localhost:8080/",
          "height": 35
        }
      },
      "source": [
        "trainin_score = clf.score(X,y)\n",
        "print(trainin_score, 'k = ', k)"
      ],
      "execution_count": 15,
      "outputs": [
        {
          "output_type": "stream",
          "text": [
            "0.9789343246592317 k =  100\n"
          ],
          "name": "stdout"
        }
      ]
    },
    {
      "cell_type": "code",
      "metadata": {
        "id": "zg1VQwFdu4nR",
        "colab_type": "code",
        "colab": {}
      },
      "source": [
        "test_y, _, test_X = zip(*test_imgs_with_hists) # zip trick, equivalent of :"
      ],
      "execution_count": 0,
      "outputs": []
    },
    {
      "cell_type": "code",
      "metadata": {
        "id": "fd3zx8Yiu4hm",
        "colab_type": "code",
        "colab": {}
      },
      "source": [
        "predictions = clf.predict(test_X)"
      ],
      "execution_count": 0,
      "outputs": []
    },
    {
      "cell_type": "code",
      "metadata": {
        "id": "iyPJQrfivDRs",
        "colab_type": "code",
        "outputId": "6102d25d-d5df-40fd-ff52-919c6092ef6c",
        "colab": {
          "base_uri": "https://localhost:8080/",
          "height": 35
        }
      },
      "source": [
        "acc= accuracy_score(test_y, predictions)\n",
        "print(acc)"
      ],
      "execution_count": 18,
      "outputs": [
        {
          "output_type": "stream",
          "text": [
            "0.6428571428571429\n"
          ],
          "name": "stdout"
        }
      ]
    },
    {
      "cell_type": "code",
      "metadata": {
        "id": "K-9cUFm07ASF",
        "colab_type": "code",
        "colab": {}
      },
      "source": [
        "import numpy as np\n",
        "import matplotlib.pyplot as plt\n",
        "plt.rcParams['figure.figsize'] = [10, 5]\n",
        "from sklearn import svm, datasets\n",
        "from sklearn.model_selection import train_test_split\n",
        "from sklearn.metrics import confusion_matrix\n",
        "from sklearn.utils.multiclass import unique_labels\n",
        "\n",
        "\n",
        "def plot_confusion_matrix(y_true, y_pred, classes,\n",
        "                          normalize=False,\n",
        "                          title=None,\n",
        "                          cmap=plt.cm.Blues):\n",
        "    \"\"\"\n",
        "    This function prints and plots the confusion matrix.\n",
        "    Normalization can be applied by setting `normalize=True`.\n",
        "    \"\"\"\n",
        "    if not title:\n",
        "        if normalize:\n",
        "            title = 'Normalized confusion matrix'\n",
        "        else:\n",
        "            title = 'Confusion matrix, without normalization'\n",
        "\n",
        "    # Compute confusion matrix\n",
        "    cm = confusion_matrix(y_true, y_pred)\n",
        "    # Only use the labels that appear in the data\n",
        "    # classes = classes[unique_labels(y_true, y_pred)]\n",
        "    if normalize:\n",
        "        cm = cm.astype('float') / cm.sum(axis=1)[:, np.newaxis]\n",
        "        # print(\"Normalized confusion matrix\")\n",
        "    else:\n",
        "        pass\n",
        "        # print('Confusion matrix, without normalization')\n",
        "\n",
        "    # print(cm)\n",
        "\n",
        "    fig, ax = plt.subplots()\n",
        "    im = ax.imshow(cm, interpolation='nearest', cmap=cmap)\n",
        "    ax.figure.colorbar(im, ax=ax)\n",
        "    # We want to show all ticks...\n",
        "    ax.set(xticks=np.arange(cm.shape[1]),\n",
        "           yticks=np.arange(cm.shape[0]),\n",
        "           # ... and label them with the respective list entries\n",
        "           xticklabels=classes, yticklabels=classes,\n",
        "           title=title,\n",
        "           ylabel='True label',\n",
        "           xlabel='Predicted label')\n",
        "    plt.ylim([6.5, -.5])\n",
        "    # Rotate the tick labels and set their alignment.\n",
        "    plt.setp(ax.get_xticklabels(), rotation=45, ha=\"right\",\n",
        "             rotation_mode=\"anchor\")\n",
        "\n",
        "    # Loop over data dimensions and create text annotations.\n",
        "    fmt = '.2f' if normalize else 'd'\n",
        "    thresh = cm.max() / 2.\n",
        "    for i in range(cm.shape[0]):\n",
        "        for j in range(cm.shape[1]):\n",
        "            ax.text(j, i, format(cm[i, j], fmt),\n",
        "                    ha=\"center\", va=\"center\",\n",
        "                    color=\"white\" if cm[i, j] > thresh else \"black\")\n",
        "    fig.tight_layout()\n",
        "    "
      ],
      "execution_count": 0,
      "outputs": []
    },
    {
      "cell_type": "code",
      "metadata": {
        "id": "xGPuaTc-GhT1",
        "colab_type": "code",
        "colab": {}
      },
      "source": [
        "labels = sorted(class_names)"
      ],
      "execution_count": 0,
      "outputs": []
    },
    {
      "cell_type": "code",
      "metadata": {
        "id": "xb_dnU327ZAQ",
        "colab_type": "code",
        "outputId": "67fb719c-d754-4b79-c0ae-07ed4332bf02",
        "colab": {
          "base_uri": "https://localhost:8080/",
          "height": 369
        }
      },
      "source": [
        "_ = plot_confusion_matrix(test_y, predictions, labels)"
      ],
      "execution_count": 21,
      "outputs": [
        {
          "output_type": "display_data",
          "data": {
            "image/png": "[encoded data removed]",
            "text/plain": [
              "<Figure size 720x360 with 2 Axes>"
            ]
          },
          "metadata": {
            "tags": []
          }
        }
      ]
    },
    {
      "cell_type": "code",
      "metadata": {
        "id": "kzHV3L0evSEV",
        "colab_type": "code",
        "colab": {}
      },
      "source": [
        ""
      ],
      "execution_count": 0,
      "outputs": []
    }
  ]
}