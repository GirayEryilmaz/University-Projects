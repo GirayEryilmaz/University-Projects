{
  "nbformat": 4,
  "nbformat_minor": 0,
  "metadata": {
    "colab": {
      "name": "drug_intake_bilstm.ipynb",
      "provenance": []
    },
    "kernelspec": {
      "name": "python3",
      "display_name": "Python 3"
    },
    "accelerator": "GPU"
  },
  "cells": [
    {
      "cell_type": "code",
      "metadata": {
        "id": "YRlIjUCq8WNs",
        "colab_type": "code",
        "outputId": "cf0b92b3-232d-47a2-b385-8070cd1f9be6",
        "colab": {
          "base_uri": "https://localhost:8080/",
          "height": 126
        }
      },
      "source": [
        "from google.colab import drive\n",
        "drive.mount('/content/gdrive/', force_remount=True)"
      ],
      "execution_count": 1,
      "outputs": [
        {
          "output_type": "stream",
          "text": [
            "Go to this URL in a browser: https://accounts.google.com/o/oauth2/auth?client_id=947318989803-6bn6qk8qdgf4n4g3pfee6491hc0brc4i.apps.googleusercontent.com&redirect_uri=urn%3aietf%3awg%3aoauth%3a2.0%3aoob&response_type=code&scope=email%20https%3a%2f%2fwww.googleapis.com%2fauth%2fdocs.test%20https%3a%2f%2fwww.googleapis.com%2fauth%2fdrive%20https%3a%2f%2fwww.googleapis.com%2fauth%2fdrive.photos.readonly%20https%3a%2f%2fwww.googleapis.com%2fauth%2fpeopleapi.readonly\n",
            "\n",
            "Enter your authorization code:\n",
            "··········\n",
            "Mounted at /content/gdrive/\n"
          ],
          "name": "stdout"
        }
      ]
    },
    {
      "cell_type": "code",
      "metadata": {
        "id": "0TIVZ3R8haEJ",
        "colab_type": "code",
        "colab": {}
      },
      "source": [
        "faces = {\n",
        "        \":‑)\":\"smiley\",\n",
        "        \":-]\":\"smiley\",\n",
        "        \":-3\":\"smiley\",\n",
        "        \":->\":\"smiley\",\n",
        "        \"8-)\":\"smiley\",\n",
        "        \":-}\":\"smiley\",\n",
        "        \":)\":\"smiley\",\n",
        "        \":]\":\"smiley\",\n",
        "        \":3\":\"smiley\",\n",
        "        \":>\":\"smiley\",\n",
        "        \"8)\":\"smiley\",\n",
        "        \":}\":\"smiley\",\n",
        "        \":o)\":\"smiley\",\n",
        "        \":c)\":\"smiley\",\n",
        "        \":^)\":\"smiley\",\n",
        "        \"=]\":\"smiley\",\n",
        "        \"=)\":\"smiley\",\n",
        "        \":-)\":\"smiley\",\n",
        "        \":-))\":\"smiley\",\n",
        "        \":‑D\":\"smiley\",\n",
        "        \"8‑D\":\"smiley\",\n",
        "        \"x‑D\":\"smiley\",\n",
        "        \"X‑D\":\"smiley\",\n",
        "        \":D\":\"smiley\",\n",
        "        \"8D\":\"smiley\",\n",
        "        \"xD\":\"smiley\",\n",
        "        \"XD\":\"smiley\",\n",
        "        \":‑(\":\"sad\",\n",
        "        \":‑c\":\"sad\",\n",
        "        \":‑<\":\"sad\",\n",
        "        \":‑[\":\"sad\",\n",
        "        \":(\":\"sad\",\n",
        "        \":c\":\"sad\",\n",
        "        \":<\":\"sad\",\n",
        "        \":[\":\"sad\",\n",
        "        \":-||\":\"sad\",\n",
        "        \">:[\":\"sad\",\n",
        "        \":{\":\"sad\",\n",
        "        \":@\":\"sad\",\n",
        "        \">:(\":\"sad\",\n",
        "        \":'‑(\":\"sad\",\n",
        "        \":'(\":\"sad\",\n",
        "        \":‑P\":\"playful\",\n",
        "        \"X‑P\":\"playful\",\n",
        "        \"x‑p\":\"playful\",\n",
        "        \":‑p\":\"playful\",\n",
        "        \":‑Þ\":\"playful\",\n",
        "        \":‑þ\":\"playful\",\n",
        "        \":‑b\":\"playful\",\n",
        "        \":P\":\"playful\",\n",
        "        \"XP\":\"playful\",\n",
        "        \"xp\":\"playful\",\n",
        "        \":p\":\"playful\",\n",
        "        \":Þ\":\"playful\",\n",
        "        \":þ\":\"playful\",\n",
        "        \":b\":\"playful\",\n",
        "        \"<3\":\"love\",\n",
        "         \":/\":\"sad\",\n",
        "         \";)\":\"wink\",\n",
        "}\n",
        "    \n",
        "contractions = {\n",
        "        \"ain't\":\"is not\",\n",
        "        \"amn't\":\"am not\",\n",
        "        \"aren't\":\"are not\",\n",
        "        \"can't\":\"cannot\",\n",
        "        \"'cause\":\"because\",\n",
        "        \"couldn't\":\"could not\",\n",
        "        \"couldn't've\":\"could not have\",\n",
        "        \"could've\":\"could have\",\n",
        "        \"daren't\":\"dare not\",\n",
        "        \"daresn't\":\"dare not\",\n",
        "        \"dasn't\":\"dare not\",\n",
        "        \"didn't\":\"did not\",\n",
        "        \"doesn't\":\"does not\",\n",
        "        \"don't\":\"do not\",\n",
        "        \"e'er\":\"ever\",\n",
        "        \"em\":\"them\",\n",
        "        \"everyone's\":\"everyone is\",\n",
        "        \"finna\":\"fixing to\",\n",
        "        \"gimme\":\"give me\",\n",
        "        \"gonna\":\"going to\",\n",
        "        \"gon't\":\"go not\",\n",
        "        \"gotta\":\"got to\",\n",
        "        \"hadn't\":\"had not\",\n",
        "        \"hasn't\":\"has not\",\n",
        "        \"haven't\":\"have not\",\n",
        "        \"he'd\":\"he would\",\n",
        "        \"he'll\":\"he will\",\n",
        "        \"he's\":\"he is\",\n",
        "        \"he've\":\"he have\",\n",
        "        \"how'd\":\"how would\",\n",
        "        \"how'll\":\"how will\",\n",
        "        \"how're\":\"how are\",\n",
        "        \"how's\":\"how is\",\n",
        "        \"i'd\":\"i would\",\n",
        "        \"i'll\":\"i will\",\n",
        "        \"i'm\":\"i am\",\n",
        "        \"i'm'a\":\"i am about to\",\n",
        "        \"i'm'o\":\"i am going to\",\n",
        "        \"isn't\":\"is not\",\n",
        "        \"it'd\":\"it would\",\n",
        "        \"it'll\":\"it will\",\n",
        "        \"it's\":\"it is\",\n",
        "        \"i've\":\"i have\",\n",
        "        \"kinda\":\"kind of\",\n",
        "        \"let's\":\"let us\",\n",
        "        \"mayn't\":\"may not\",\n",
        "        \"may've\":\"may have\",\n",
        "        \"mightn't\":\"might not\",\n",
        "        \"might've\":\"might have\",\n",
        "        \"mustn't\":\"must not\",\n",
        "        \"mustn't've\":\"must not have\",\n",
        "        \"must've\":\"must have\",\n",
        "        \"needn't\":\"need not\",\n",
        "        \"ne'er\":\"never\",\n",
        "        \"o'\":\"of\",\n",
        "        \"o'er\":\"over\",\n",
        "        \"ol'\":\"old\",\n",
        "        \"oughtn't\":\"ought not\",\n",
        "        \"shalln't\":\"shall not\",\n",
        "        \"shan't\":\"shall not\",\n",
        "        \"she'd\":\"she would\",\n",
        "        \"she'll\":\"she will\",\n",
        "        \"she's\":\"she is\",\n",
        "        \"shouldn't\":\"should not\",\n",
        "        \"shouldn't've\":\"should not have\",\n",
        "        \"should've\":\"should have\",\n",
        "        \"somebody's\":\"somebody is\",\n",
        "        \"someone's\":\"someone is\",\n",
        "        \"something's\":\"something is\",\n",
        "        \"that'd\":\"that would\",\n",
        "        \"that'll\":\"that will\",\n",
        "        \"that're\":\"that are\",\n",
        "        \"that's\":\"that is\",\n",
        "        \"there'd\":\"there would\",\n",
        "        \"there'll\":\"there will\",\n",
        "        \"there're\":\"there are\",\n",
        "        \"there's\":\"there is\",\n",
        "        \"these're\":\"these are\",\n",
        "        \"they'd\":\"they would\",\n",
        "        \"they'll\":\"they will\",\n",
        "        \"they're\":\"they are\",\n",
        "        \"they've\":\"they have\",\n",
        "        \"this's\":\"this is\",\n",
        "        \"those're\":\"those are\",\n",
        "        \"'tis\":\"it is\",\n",
        "        \"'twas\":\"it was\",\n",
        "        \"wanna\":\"want to\",\n",
        "        \"wasn't\":\"was not\",\n",
        "        \"we'd\":\"we would\",\n",
        "        \"we'd've\":\"we would have\",\n",
        "        \"we'll\":\"we will\",\n",
        "        \"we're\":\"we are\",\n",
        "        \"weren't\":\"were not\",\n",
        "        \"we've\":\"we have\",\n",
        "        \"what'd\":\"what did\",\n",
        "        \"what'll\":\"what will\",\n",
        "        \"what're\":\"what are\",\n",
        "        \"what's\":\"what is\",\n",
        "        \"what've\":\"what have\",\n",
        "        \"when's\":\"when is\",\n",
        "        \"where'd\":\"where did\",\n",
        "        \"where're\":\"where are\",\n",
        "        \"where's\":\"where is\",\n",
        "        \"where've\":\"where have\",\n",
        "        \"which's\":\"which is\",\n",
        "        \"who'd\":\"who would\",\n",
        "        \"who'd've\":\"who would have\",\n",
        "        \"who'll\":\"who will\",\n",
        "        \"who're\":\"who are\",\n",
        "        \"who's\":\"who is\",\n",
        "        \"who've\":\"who have\",\n",
        "        \"why'd\":\"why did\",\n",
        "        \"why're\":\"why are\",\n",
        "        \"why's\":\"why is\",\n",
        "        \"won't\":\"will not\",\n",
        "        \"wouldn't\":\"would not\",\n",
        "        \"would've\":\"would have\",\n",
        "        \"y'all\":\"you all\",\n",
        "        \"you'd\":\"you would\",\n",
        "        \"you'll\":\"you will\",\n",
        "        \"you're\":\"you are\",\n",
        "        \"you've\":\"you have\",\n",
        "        \"Whatcha\":\"What are you\",\n",
        "        \"luv\":\"love\",\n",
        "        \"sux\":\"sucks\"\n",
        "}"
      ],
      "execution_count": 0,
      "outputs": []
    },
    {
      "cell_type": "code",
      "metadata": {
        "id": "4AWHAREtDZw5",
        "colab_type": "code",
        "outputId": "d45b5a62-95a4-4b4e-9a70-7e6365c5b7eb",
        "colab": {
          "base_uri": "https://localhost:8080/",
          "height": 82
        }
      },
      "source": [
        "import numpy as np\n",
        "import warnings\n",
        "warnings.filterwarnings('ignore')\n",
        "import pandas as pd\n",
        "\n",
        "from keras.preprocessing import sequence\n",
        "from keras.models import Sequential\n",
        "from keras.utils import to_categorical\n",
        "from keras.layers import Dense, Dropout, Embedding, LSTM, Bidirectional, CuDNNLSTM\n",
        "import keras\n",
        "\n",
        "import matplotlib.pyplot as plt\n",
        "\n",
        "from gensim.models.word2vec import Word2Vec\n",
        "import gensim.downloader as api\n",
        "\n",
        "from nltk.tokenize import TweetTokenizer\n",
        "\n",
        "import tensorflow as tf\n",
        "tf.get_logger().setLevel('ERROR')\n",
        "\n",
        "\n",
        "from sklearn.model_selection import train_test_split\n",
        "from sklearn.metrics import classification_report\n",
        "\n"
      ],
      "execution_count": 3,
      "outputs": [
        {
          "output_type": "stream",
          "text": [
            "Using TensorFlow backend.\n"
          ],
          "name": "stderr"
        },
        {
          "output_type": "display_data",
          "data": {
            "text/html": [
              "<p style=\"color: red;\">\n",
              "The default version of TensorFlow in Colab will soon switch to TensorFlow 2.x.<br>\n",
              "We recommend you <a href=\"https://www.tensorflow.org/guide/migrate\" target=\"_blank\">upgrade</a> now \n",
              "or ensure your notebook will continue to use TensorFlow 1.x via the <code>%tensorflow_version 1.x</code> magic:\n",
              "<a href=\"https://colab.research.google.com/notebooks/tensorflow_version.ipynb\" target=\"_blank\">more info</a>.</p>\n"
            ],
            "text/plain": [
              "<IPython.core.display.HTML object>"
            ]
          },
          "metadata": {
            "tags": []
          }
        }
      ]
    },
    {
      "cell_type": "code",
      "metadata": {
        "id": "qJqk7oXRW92C",
        "colab_type": "code",
        "outputId": "c220976c-4a2e-476b-d26e-c65d094a5f79",
        "colab": {
          "base_uri": "https://localhost:8080/",
          "height": 70
        }
      },
      "source": [
        "\n",
        "wv_model_name = 'glove-twitter-200'\n",
        "# wv_model_name = 'glove-twitter-100'\n",
        "# wv_model_name = 'fasttext-wiki-news-subwords-300'\n",
        "# wv_model_name = 'glove-wiki-gigaword-300'\n",
        "# wv_model_name = 'word2vec-google-news-300'\n",
        "\n",
        "\n",
        "print('Using', wv_model_name)\n",
        "wv_model = api.load(wv_model_name)\n",
        "\n",
        "print(wv_model.vector_size)\n",
        "\n",
        "#all sentences will have maxlen many tokens\n",
        "maxlen=50\n",
        "\n"
      ],
      "execution_count": 4,
      "outputs": [
        {
          "output_type": "stream",
          "text": [
            "Using glove-twitter-200\n",
            "[==================================================] 100.0% 758.5/758.5MB downloaded\n",
            "200\n"
          ],
          "name": "stdout"
        }
      ]
    },
    {
      "cell_type": "code",
      "metadata": {
        "id": "TjAAdK8V8XxQ",
        "colab_type": "code",
        "outputId": "f97d80d3-4956-4af5-9cdd-67a2406ea01a",
        "colab": {
          "base_uri": "https://localhost:8080/",
          "height": 70
        }
      },
      "source": [
        "!unzip -n 'gdrive/My Drive/549_data.zip'"
      ],
      "execution_count": 5,
      "outputs": [
        {
          "output_type": "stream",
          "text": [
            "Archive:  gdrive/My Drive/549_data.zip\n",
            "  inflating: test.csv                \n",
            "  inflating: train.csv               \n"
          ],
          "name": "stdout"
        }
      ]
    },
    {
      "cell_type": "code",
      "metadata": {
        "id": "U3Z0BrxCBzPO",
        "colab_type": "code",
        "colab": {}
      },
      "source": [
        "tokenizer = TweetTokenizer(strip_handles=True, reduce_len=True)\n",
        "\n",
        "def tokenize_with_limit(t,limit):\n",
        "    return tokenizer.tokenize(t)[:limit]\n",
        "\n",
        "def handle_smiles(tokens):\n",
        "    for i in range(len(tokens)):\n",
        "        if tokens[i] in faces:\n",
        "            tokens[i] = faces[tokens[i]]\n",
        "    return tokens\n",
        "\n",
        "\n",
        "def handle_contradictions(tokens, limit):\n",
        "    new_tokens = []\n",
        "    for token in tokens:\n",
        "        if token in contractions:\n",
        "            new_tokens.extend(tokenizer.tokenize(contractions[token]))\n",
        "        else:\n",
        "            new_tokens.append(token)\n",
        "    return new_tokens[:limit]\n",
        "\n",
        "def token_to_vec(token, vocab):\n",
        "    try:\n",
        "        return vocab[token]\n",
        "    except KeyError:\n",
        "        \n",
        "        try:\n",
        "            _ = int(token) # try to convert\n",
        "            token = 'number' # if conversion succeeds\n",
        "        except ValueError:\n",
        "            # print(token, 'is missing.')\n",
        "            return None\n",
        "    return vocab[token]\n",
        "\n",
        "def get_vector(row, vocab):\n",
        "    return [notNone for notNone in (token_to_vec(token,vocab) for token in row['tokens']) if notNone is not None]"
      ],
      "execution_count": 0,
      "outputs": []
    },
    {
      "cell_type": "code",
      "metadata": {
        "id": "HMcr14me-mpg",
        "colab_type": "code",
        "colab": {}
      },
      "source": [
        "train = pd.read_csv('train.csv', sep='\\t')\n",
        "test = pd.read_csv('test.csv', sep='\\t')"
      ],
      "execution_count": 0,
      "outputs": []
    },
    {
      "cell_type": "markdown",
      "metadata": {
        "id": "OBeO0k7yD_fu",
        "colab_type": "text"
      },
      "source": [
        "Plot hist to see sentence lengths as #of tokens\n",
        "SO that I can choose a threshold.\n"
      ]
    },
    {
      "cell_type": "code",
      "metadata": {
        "id": "Q1PtLzR4Ds_a",
        "colab_type": "code",
        "outputId": "637a1440-6749-4ff0-b5a2-ce0bf5b008fe",
        "colab": {
          "base_uri": "https://localhost:8080/",
          "height": 299
        }
      },
      "source": [
        "n_bins = 50\n",
        "\n",
        "# dont limit the #of tokens to see \n",
        "x = train['text'].apply(lambda t: tokenize_with_limit(t, 10000)).apply(len)\n",
        "\n",
        "fig, ax = plt.subplots(figsize=(8, 4))\n",
        "\n",
        "# plot the cumulative histogram\n",
        "n, bins, patches = ax.hist(x, n_bins, density=True, histtype='step',\n",
        "                           cumulative=True, label='Empirical')\n",
        "\n",
        "# tidy up the figure\n",
        "ax.grid(True)\n",
        "ax.legend(loc='right')\n",
        "ax.set_title('Cumulative step histograms of token counts per sentence')"
      ],
      "execution_count": 8,
      "outputs": [
        {
          "output_type": "execute_result",
          "data": {
            "text/plain": [
              "Text(0.5, 1.0, 'Cumulative step histograms of token counts per sentence')"
            ]
          },
          "metadata": {
            "tags": []
          },
          "execution_count": 8
        },
        {
          "output_type": "display_data",
          "data": {
            "image/png": "[encoded data removed]",
            "text/plain": [
              "<Figure size 576x288 with 1 Axes>"
            ]
          },
          "metadata": {
            "tags": []
          }
        }
      ]
    },
    {
      "cell_type": "code",
      "metadata": {
        "id": "j_Fb04Ft_7uG",
        "colab_type": "code",
        "colab": {}
      },
      "source": [
        "train['tokens'] = train['text'].apply(lambda t: tokenize_with_limit(t, maxlen))\n",
        "test['tokens'] = test['text'].apply(lambda t : tokenize_with_limit(t, maxlen))"
      ],
      "execution_count": 0,
      "outputs": []
    },
    {
      "cell_type": "code",
      "metadata": {
        "id": "XnxLT_LPKOBn",
        "colab_type": "code",
        "colab": {}
      },
      "source": [
        "train['tokens'] = train['tokens'].apply(lambda t: handle_smiles(t))\n",
        "test['tokens'] = test['tokens'].apply(lambda t: handle_smiles(t))"
      ],
      "execution_count": 0,
      "outputs": []
    },
    {
      "cell_type": "code",
      "metadata": {
        "id": "ySbunOgPNeMZ",
        "colab_type": "code",
        "colab": {}
      },
      "source": [
        "train['tokens'] = train['tokens'].apply(lambda tokens: [t.lower() for t in tokens])\n",
        "test['tokens'] = test['tokens'].apply(lambda tokens: [t.lower() for t in tokens])"
      ],
      "execution_count": 0,
      "outputs": []
    },
    {
      "cell_type": "code",
      "metadata": {
        "id": "780fpKr6RasM",
        "colab_type": "code",
        "colab": {}
      },
      "source": [
        "train['tokens'] = train['tokens'].apply(lambda t: handle_contradictions(t, maxlen))\n",
        "test['tokens'] = test['tokens'].apply(lambda t: handle_contradictions(t, maxlen))"
      ],
      "execution_count": 0,
      "outputs": []
    },
    {
      "cell_type": "code",
      "metadata": {
        "id": "pPFh_ojaVi4K",
        "colab_type": "code",
        "outputId": "37c0dcaa-3464-464f-cfea-8cdbf18fc386",
        "colab": {
          "base_uri": "https://localhost:8080/",
          "height": 53
        }
      },
      "source": [
        "x_train = train.apply(lambda t: get_vector(t, wv_model), axis=1)\n",
        "x_test = test.apply(lambda t: get_vector(t, wv_model), axis=1)\n",
        "\n",
        "x_train_padded = sequence.pad_sequences(x_train, maxlen=maxlen, dtype=np.float32)\n",
        "x_test_padded = sequence.pad_sequences(x_test, maxlen=maxlen, dtype=np.float32)\n",
        "\n",
        "print('x_train_padded shape:', x_train_padded.shape)\n",
        "print('x_test_padded shape:', x_test_padded.shape)\n",
        "\n",
        "y_train = to_categorical(train['label'].apply(lambda x:x-1), num_classes=3)\n",
        "y_test = to_categorical(test['label'].apply(lambda x:x-1), num_classes=3)"
      ],
      "execution_count": 13,
      "outputs": [
        {
          "output_type": "stream",
          "text": [
            "x_train_padded shape: (8336, 50, 200)\n",
            "x_test_padded shape: (6126, 50, 200)\n"
          ],
          "name": "stdout"
        }
      ]
    },
    {
      "cell_type": "code",
      "metadata": {
        "id": "gZ0IMwl5QgIY",
        "colab_type": "code",
        "colab": {}
      },
      "source": [
        "def get_model():\n",
        "    global batch_size\n",
        "    batch_size = 128\n",
        "\n",
        "    model = Sequential()\n",
        "    model.add(Bidirectional(CuDNNLSTM(units=64, return_sequences=False), input_shape=(maxlen, wv_model.vector_size)))\n",
        "    model.add(Dropout(0.9))\n",
        "    model.add(Dense(3, activation='softmax', kernel_regularizer=keras.regularizers.l1_l2(l1=0.01, l2=0.01)))\n",
        "\n",
        "    # try using different optimizers and different optimizer configs\n",
        "    model.compile('adam', 'binary_crossentropy', metrics=['accuracy'])\n",
        "    return model"
      ],
      "execution_count": 0,
      "outputs": []
    },
    {
      "cell_type": "code",
      "metadata": {
        "id": "5YBImemn0CNZ",
        "colab_type": "code",
        "outputId": "bb5110d4-42b4-42a4-8942-3bfad2016ca5",
        "colab": {
          "base_uri": "https://localhost:8080/",
          "height": 266
        }
      },
      "source": [
        "model = get_model()\n",
        "model.summary()"
      ],
      "execution_count": 15,
      "outputs": [
        {
          "output_type": "stream",
          "text": [
            "Model: \"sequential_1\"\n",
            "_________________________________________________________________\n",
            "Layer (type)                 Output Shape              Param #   \n",
            "=================================================================\n",
            "bidirectional_1 (Bidirection (None, 128)               136192    \n",
            "_________________________________________________________________\n",
            "dropout_1 (Dropout)          (None, 128)               0         \n",
            "_________________________________________________________________\n",
            "dense_1 (Dense)              (None, 3)                 387       \n",
            "=================================================================\n",
            "Total params: 136,579\n",
            "Trainable params: 136,579\n",
            "Non-trainable params: 0\n",
            "_________________________________________________________________\n"
          ],
          "name": "stdout"
        }
      ]
    },
    {
      "cell_type": "code",
      "metadata": {
        "id": "IcxW7nkfVSdk",
        "colab_type": "code",
        "outputId": "8ea79be6-9b8a-4296-f27e-f476e918c3dd",
        "colab": {
          "base_uri": "https://localhost:8080/",
          "height": 1000
        }
      },
      "source": [
        "x_train_train, x_train_valid, y_train_train, y_train_valid = train_test_split(x_train_padded, y_train, test_size=0.1, shuffle= True)\n",
        "print('Train...')\n",
        "history = model.fit(x_train_train, y_train_train,\n",
        "          batch_size=batch_size,\n",
        "          epochs=50,\n",
        "          validation_data=[x_train_valid, y_train_valid],\n",
        "          )\n"
      ],
      "execution_count": 16,
      "outputs": [
        {
          "output_type": "stream",
          "text": [
            "Train...\n",
            "Train on 7502 samples, validate on 834 samples\n",
            "Epoch 1/50\n",
            "7502/7502 [==============================] - 15s 2ms/step - loss: 0.9837 - acc: 0.6816 - val_loss: 0.7879 - val_acc: 0.7578\n",
            "Epoch 2/50\n",
            "7502/7502 [==============================] - 1s 101us/step - loss: 0.7215 - acc: 0.7586 - val_loss: 0.6125 - val_acc: 0.7898\n",
            "Epoch 3/50\n",
            "7502/7502 [==============================] - 1s 101us/step - loss: 0.5921 - acc: 0.7834 - val_loss: 0.5330 - val_acc: 0.7942\n",
            "Epoch 4/50\n",
            "7502/7502 [==============================] - 1s 101us/step - loss: 0.5342 - acc: 0.7934 - val_loss: 0.5014 - val_acc: 0.7994\n",
            "Epoch 5/50\n",
            "7502/7502 [==============================] - 1s 102us/step - loss: 0.5061 - acc: 0.7996 - val_loss: 0.4754 - val_acc: 0.8078\n",
            "Epoch 6/50\n",
            "7502/7502 [==============================] - 1s 101us/step - loss: 0.4782 - acc: 0.8160 - val_loss: 0.4659 - val_acc: 0.8269\n",
            "Epoch 7/50\n",
            "7502/7502 [==============================] - 1s 99us/step - loss: 0.4666 - acc: 0.8240 - val_loss: 0.4612 - val_acc: 0.8225\n",
            "Epoch 8/50\n",
            "7502/7502 [==============================] - 1s 103us/step - loss: 0.4590 - acc: 0.8285 - val_loss: 0.4609 - val_acc: 0.8209\n",
            "Epoch 9/50\n",
            "7502/7502 [==============================] - 1s 100us/step - loss: 0.4440 - acc: 0.8388 - val_loss: 0.4421 - val_acc: 0.8321\n",
            "Epoch 10/50\n",
            "7502/7502 [==============================] - 1s 101us/step - loss: 0.4374 - acc: 0.8471 - val_loss: 0.4511 - val_acc: 0.8397\n",
            "Epoch 11/50\n",
            "7502/7502 [==============================] - 1s 102us/step - loss: 0.4362 - acc: 0.8436 - val_loss: 0.4419 - val_acc: 0.8337\n",
            "Epoch 12/50\n",
            "7502/7502 [==============================] - 1s 102us/step - loss: 0.4213 - acc: 0.8562 - val_loss: 0.4485 - val_acc: 0.8321\n",
            "Epoch 13/50\n",
            "7502/7502 [==============================] - 1s 101us/step - loss: 0.4158 - acc: 0.8568 - val_loss: 0.4305 - val_acc: 0.8413\n",
            "Epoch 14/50\n",
            "7502/7502 [==============================] - 1s 100us/step - loss: 0.4049 - acc: 0.8626 - val_loss: 0.4305 - val_acc: 0.8417\n",
            "Epoch 15/50\n",
            "7502/7502 [==============================] - 1s 99us/step - loss: 0.3987 - acc: 0.8676 - val_loss: 0.4622 - val_acc: 0.8201\n",
            "Epoch 16/50\n",
            "7502/7502 [==============================] - 1s 101us/step - loss: 0.3885 - acc: 0.8734 - val_loss: 0.4326 - val_acc: 0.8461\n",
            "Epoch 17/50\n",
            "7502/7502 [==============================] - 1s 101us/step - loss: 0.3872 - acc: 0.8732 - val_loss: 0.4350 - val_acc: 0.8417\n",
            "Epoch 18/50\n",
            "7502/7502 [==============================] - 1s 100us/step - loss: 0.3708 - acc: 0.8826 - val_loss: 0.4247 - val_acc: 0.8457\n",
            "Epoch 19/50\n",
            "7502/7502 [==============================] - 1s 100us/step - loss: 0.3763 - acc: 0.8782 - val_loss: 0.4299 - val_acc: 0.8421\n",
            "Epoch 20/50\n",
            "7502/7502 [==============================] - 1s 102us/step - loss: 0.3757 - acc: 0.8811 - val_loss: 0.4336 - val_acc: 0.8373\n",
            "Epoch 21/50\n",
            "7502/7502 [==============================] - 1s 100us/step - loss: 0.3624 - acc: 0.8873 - val_loss: 0.4200 - val_acc: 0.8497\n",
            "Epoch 22/50\n",
            "7502/7502 [==============================] - 1s 101us/step - loss: 0.3476 - acc: 0.8949 - val_loss: 0.4246 - val_acc: 0.8473\n",
            "Epoch 23/50\n",
            "7502/7502 [==============================] - 1s 99us/step - loss: 0.3445 - acc: 0.8972 - val_loss: 0.4348 - val_acc: 0.8433\n",
            "Epoch 24/50\n",
            "7502/7502 [==============================] - 1s 100us/step - loss: 0.3532 - acc: 0.8931 - val_loss: 0.4196 - val_acc: 0.8445\n",
            "Epoch 25/50\n",
            "7502/7502 [==============================] - 1s 101us/step - loss: 0.3383 - acc: 0.9006 - val_loss: 0.4276 - val_acc: 0.8513\n",
            "Epoch 26/50\n",
            "7502/7502 [==============================] - 1s 101us/step - loss: 0.3312 - acc: 0.9042 - val_loss: 0.4267 - val_acc: 0.8417\n",
            "Epoch 27/50\n",
            "7502/7502 [==============================] - 1s 100us/step - loss: 0.3311 - acc: 0.9057 - val_loss: 0.4345 - val_acc: 0.8413\n",
            "Epoch 28/50\n",
            "7502/7502 [==============================] - 1s 102us/step - loss: 0.3288 - acc: 0.9044 - val_loss: 0.4303 - val_acc: 0.8437\n",
            "Epoch 29/50\n",
            "7502/7502 [==============================] - 1s 102us/step - loss: 0.3271 - acc: 0.9055 - val_loss: 0.4215 - val_acc: 0.8501\n",
            "Epoch 30/50\n",
            "7502/7502 [==============================] - 1s 101us/step - loss: 0.3194 - acc: 0.9109 - val_loss: 0.4400 - val_acc: 0.8421\n",
            "Epoch 31/50\n",
            "7502/7502 [==============================] - 1s 101us/step - loss: 0.3161 - acc: 0.9136 - val_loss: 0.4362 - val_acc: 0.8393\n",
            "Epoch 32/50\n",
            "7502/7502 [==============================] - 1s 101us/step - loss: 0.3320 - acc: 0.9020 - val_loss: 0.4461 - val_acc: 0.8397\n",
            "Epoch 33/50\n",
            "7502/7502 [==============================] - 1s 102us/step - loss: 0.3214 - acc: 0.9067 - val_loss: 0.4266 - val_acc: 0.8473\n",
            "Epoch 34/50\n",
            "7502/7502 [==============================] - 1s 101us/step - loss: 0.3097 - acc: 0.9146 - val_loss: 0.4527 - val_acc: 0.8397\n",
            "Epoch 35/50\n",
            "7502/7502 [==============================] - 1s 101us/step - loss: 0.3274 - acc: 0.9106 - val_loss: 0.4355 - val_acc: 0.8465\n",
            "Epoch 36/50\n",
            "7502/7502 [==============================] - 1s 100us/step - loss: 0.2966 - acc: 0.9224 - val_loss: 0.4315 - val_acc: 0.8497\n",
            "Epoch 37/50\n",
            "7502/7502 [==============================] - 1s 102us/step - loss: 0.2875 - acc: 0.9270 - val_loss: 0.4345 - val_acc: 0.8465\n",
            "Epoch 38/50\n",
            "7502/7502 [==============================] - 1s 101us/step - loss: 0.2816 - acc: 0.9299 - val_loss: 0.4344 - val_acc: 0.8513\n",
            "Epoch 39/50\n",
            "7502/7502 [==============================] - 1s 101us/step - loss: 0.2809 - acc: 0.9314 - val_loss: 0.4489 - val_acc: 0.8489\n",
            "Epoch 40/50\n",
            "7502/7502 [==============================] - 1s 104us/step - loss: 0.2782 - acc: 0.9297 - val_loss: 0.4407 - val_acc: 0.8473\n",
            "Epoch 41/50\n",
            "7502/7502 [==============================] - 1s 101us/step - loss: 0.2848 - acc: 0.9273 - val_loss: 0.4499 - val_acc: 0.8429\n",
            "Epoch 42/50\n",
            "7502/7502 [==============================] - 1s 99us/step - loss: 0.2835 - acc: 0.9273 - val_loss: 0.4337 - val_acc: 0.8541\n",
            "Epoch 43/50\n",
            "7502/7502 [==============================] - 1s 100us/step - loss: 0.2714 - acc: 0.9339 - val_loss: 0.4422 - val_acc: 0.8541\n",
            "Epoch 44/50\n",
            "7502/7502 [==============================] - 1s 101us/step - loss: 0.2678 - acc: 0.9370 - val_loss: 0.4584 - val_acc: 0.8461\n",
            "Epoch 45/50\n",
            "7502/7502 [==============================] - 1s 101us/step - loss: 0.2618 - acc: 0.9388 - val_loss: 0.4487 - val_acc: 0.8485\n",
            "Epoch 46/50\n",
            "7502/7502 [==============================] - 1s 100us/step - loss: 0.2701 - acc: 0.9367 - val_loss: 0.4529 - val_acc: 0.8529\n",
            "Epoch 47/50\n",
            "7502/7502 [==============================] - 1s 102us/step - loss: 0.2672 - acc: 0.9370 - val_loss: 0.4624 - val_acc: 0.8321\n",
            "Epoch 48/50\n",
            "7502/7502 [==============================] - 1s 102us/step - loss: 0.2687 - acc: 0.9365 - val_loss: 0.4392 - val_acc: 0.8493\n",
            "Epoch 49/50\n",
            "7502/7502 [==============================] - 1s 101us/step - loss: 0.2668 - acc: 0.9361 - val_loss: 0.4507 - val_acc: 0.8465\n",
            "Epoch 50/50\n",
            "7502/7502 [==============================] - 1s 101us/step - loss: 0.2670 - acc: 0.9358 - val_loss: 0.4656 - val_acc: 0.8369\n"
          ],
          "name": "stdout"
        }
      ]
    },
    {
      "cell_type": "code",
      "metadata": {
        "id": "2dSa8pVvNGjZ",
        "colab_type": "code",
        "colab": {
          "base_uri": "https://localhost:8080/",
          "height": 573
        },
        "outputId": "52027920-c3b3-42a1-c549-5917cb5a01b7"
      },
      "source": [
        "# Plot training & validation accuracy values\n",
        "plt.plot(history.history['acc'])\n",
        "plt.plot(history.history['val_acc'])\n",
        "plt.title('Model accuracy')\n",
        "plt.ylabel('Accuracy')\n",
        "plt.xlabel('Epoch')\n",
        "plt.legend(['Train', 'Validation'], loc='upper left')\n",
        "plt.show()\n",
        "\n",
        "# Plot training & validation loss values\n",
        "plt.plot(history.history['loss'])\n",
        "plt.plot(history.history['val_loss'])\n",
        "plt.title('Model loss')\n",
        "plt.ylabel('Loss')\n",
        "plt.xlabel('Epoch')\n",
        "plt.legend(['Train', 'Validation'], loc='upper left')\n",
        "plt.show()"
      ],
      "execution_count": 17,
      "outputs": [
        {
          "output_type": "display_data",
          "data": {
            "image/png": "[encoded data removed]",
            "text/plain": [
              "<Figure size 432x288 with 1 Axes>"
            ]
          },
          "metadata": {
            "tags": []
          }
        },
        {
          "output_type": "display_data",
          "data": {
            "image/png": "[encoded data removed]",
            "text/plain": [
              "<Figure size 432x288 with 1 Axes>"
            ]
          },
          "metadata": {
            "tags": []
          }
        }
      ]
    },
    {
      "cell_type": "markdown",
      "metadata": {
        "id": "mScZQSvYNLqn",
        "colab_type": "text"
      },
      "source": [
        "Once the params are determined, retrain the model with all the training data"
      ]
    },
    {
      "cell_type": "code",
      "metadata": {
        "id": "E6P6sj-RVa7X",
        "colab_type": "code",
        "outputId": "24066b33-7c49-4917-860c-a839efbc3690",
        "colab": {
          "base_uri": "https://localhost:8080/",
          "height": 1000
        }
      },
      "source": [
        "# retrain the model with all the training data\n",
        "test_model = get_model()\n",
        "\n",
        "epochs = 40\n",
        "test_model.fit(x_train_padded, y_train, batch_size=batch_size, epochs=epochs)\n",
        "y_pred = test_model.predict(x_test_padded, batch_size=128, verbose=1)\n",
        "y_pred_bool = np.argmax(y_pred, axis=1)\n",
        "\n",
        "print(wv_model_name, 'vector size: ' + str(wv_model.vector_size), 'sentece len:' + str(maxlen), 'epochs:' + str(epochs))\n"
      ],
      "execution_count": 18,
      "outputs": [
        {
          "output_type": "stream",
          "text": [
            "Epoch 1/40\n",
            "8336/8336 [==============================] - 1s 155us/step - loss: 0.9641 - acc: 0.6816\n",
            "Epoch 2/40\n",
            "8336/8336 [==============================] - 1s 94us/step - loss: 0.6905 - acc: 0.7559\n",
            "Epoch 3/40\n",
            "8336/8336 [==============================] - 1s 94us/step - loss: 0.5675 - acc: 0.7789\n",
            "Epoch 4/40\n",
            "8336/8336 [==============================] - 1s 95us/step - loss: 0.5102 - acc: 0.7972\n",
            "Epoch 5/40\n",
            "8336/8336 [==============================] - 1s 95us/step - loss: 0.4913 - acc: 0.8041\n",
            "Epoch 6/40\n",
            "8336/8336 [==============================] - 1s 95us/step - loss: 0.4771 - acc: 0.8134\n",
            "Epoch 7/40\n",
            "8336/8336 [==============================] - 1s 94us/step - loss: 0.4602 - acc: 0.8252\n",
            "Epoch 8/40\n",
            "8336/8336 [==============================] - 1s 96us/step - loss: 0.4502 - acc: 0.8314\n",
            "Epoch 9/40\n",
            "8336/8336 [==============================] - 1s 95us/step - loss: 0.4428 - acc: 0.8387\n",
            "Epoch 10/40\n",
            "8336/8336 [==============================] - 1s 94us/step - loss: 0.4337 - acc: 0.8460\n",
            "Epoch 11/40\n",
            "8336/8336 [==============================] - 1s 95us/step - loss: 0.4228 - acc: 0.8504\n",
            "Epoch 12/40\n",
            "8336/8336 [==============================] - 1s 95us/step - loss: 0.4200 - acc: 0.8503\n",
            "Epoch 13/40\n",
            "8336/8336 [==============================] - 1s 94us/step - loss: 0.4162 - acc: 0.8544\n",
            "Epoch 14/40\n",
            "8336/8336 [==============================] - 1s 94us/step - loss: 0.4141 - acc: 0.8556\n",
            "Epoch 15/40\n",
            "8336/8336 [==============================] - 1s 95us/step - loss: 0.3966 - acc: 0.8683\n",
            "Epoch 16/40\n",
            "8336/8336 [==============================] - 1s 95us/step - loss: 0.3911 - acc: 0.8694\n",
            "Epoch 17/40\n",
            "8336/8336 [==============================] - 1s 95us/step - loss: 0.3886 - acc: 0.8744\n",
            "Epoch 18/40\n",
            "8336/8336 [==============================] - 1s 94us/step - loss: 0.3770 - acc: 0.8794\n",
            "Epoch 19/40\n",
            "8336/8336 [==============================] - 1s 94us/step - loss: 0.3757 - acc: 0.8791\n",
            "Epoch 20/40\n",
            "8336/8336 [==============================] - 1s 93us/step - loss: 0.3623 - acc: 0.8879\n",
            "Epoch 21/40\n",
            "8336/8336 [==============================] - 1s 95us/step - loss: 0.3593 - acc: 0.8881\n",
            "Epoch 22/40\n",
            "8336/8336 [==============================] - 1s 94us/step - loss: 0.3557 - acc: 0.8945\n",
            "Epoch 23/40\n",
            "8336/8336 [==============================] - 1s 97us/step - loss: 0.3445 - acc: 0.8971\n",
            "Epoch 24/40\n",
            "8336/8336 [==============================] - 1s 95us/step - loss: 0.3364 - acc: 0.9025\n",
            "Epoch 25/40\n",
            "8336/8336 [==============================] - 1s 95us/step - loss: 0.3309 - acc: 0.9059\n",
            "Epoch 26/40\n",
            "8336/8336 [==============================] - 1s 94us/step - loss: 0.3294 - acc: 0.9062\n",
            "Epoch 27/40\n",
            "8336/8336 [==============================] - 1s 95us/step - loss: 0.3332 - acc: 0.9062\n",
            "Epoch 28/40\n",
            "8336/8336 [==============================] - 1s 95us/step - loss: 0.3243 - acc: 0.9097\n",
            "Epoch 29/40\n",
            "8336/8336 [==============================] - 1s 94us/step - loss: 0.3241 - acc: 0.9077\n",
            "Epoch 30/40\n",
            "8336/8336 [==============================] - 1s 95us/step - loss: 0.3159 - acc: 0.9137\n",
            "Epoch 31/40\n",
            "8336/8336 [==============================] - 1s 95us/step - loss: 0.3088 - acc: 0.9171\n",
            "Epoch 32/40\n",
            "8336/8336 [==============================] - 1s 94us/step - loss: 0.3088 - acc: 0.9182\n",
            "Epoch 33/40\n",
            "8336/8336 [==============================] - 1s 94us/step - loss: 0.2957 - acc: 0.9249\n",
            "Epoch 34/40\n",
            "8336/8336 [==============================] - 1s 94us/step - loss: 0.2984 - acc: 0.9221\n",
            "Epoch 35/40\n",
            "8336/8336 [==============================] - 1s 95us/step - loss: 0.2972 - acc: 0.9224\n",
            "Epoch 36/40\n",
            "8336/8336 [==============================] - 1s 97us/step - loss: 0.2873 - acc: 0.9257\n",
            "Epoch 37/40\n",
            "8336/8336 [==============================] - 1s 95us/step - loss: 0.2865 - acc: 0.9292\n",
            "Epoch 38/40\n",
            "8336/8336 [==============================] - 1s 93us/step - loss: 0.2865 - acc: 0.9296\n",
            "Epoch 39/40\n",
            "8336/8336 [==============================] - 1s 95us/step - loss: 0.3159 - acc: 0.9131\n",
            "Epoch 40/40\n",
            "8336/8336 [==============================] - 1s 95us/step - loss: 0.2805 - acc: 0.9301\n",
            "6126/6126 [==============================] - 0s 66us/step\n",
            "glove-twitter-200 vector size: 200 sentece len:50 epochs:40\n",
            "              precision    recall  f1-score   support\n",
            "\n",
            "           0       0.65      0.64      0.64      1409\n",
            "           1       0.68      0.59      0.63      2205\n",
            "           2       0.74      0.83      0.78      2512\n",
            "\n",
            "    accuracy                           0.70      6126\n",
            "   macro avg       0.69      0.69      0.69      6126\n",
            "weighted avg       0.70      0.70      0.70      6126\n",
            "\n"
          ],
          "name": "stdout"
        }
      ]
    },
    {
      "cell_type": "code",
      "metadata": {
        "id": "rUTSYx0MVbD_",
        "colab_type": "code",
        "colab": {
          "base_uri": "https://localhost:8080/",
          "height": 195
        },
        "outputId": "418f58f7-b9ee-46fe-eca4-605a58e80b48"
      },
      "source": [
        "print(classification_report(np.argmax(y_test, axis=1), y_pred_bool, digits=4))"
      ],
      "execution_count": 21,
      "outputs": [
        {
          "output_type": "stream",
          "text": [
            "              precision    recall  f1-score   support\n",
            "\n",
            "           0     0.6458    0.6430    0.6444      1409\n",
            "           1     0.6827    0.5914    0.6338      2205\n",
            "           2     0.7423    0.8312    0.7842      2512\n",
            "\n",
            "    accuracy                         0.7016      6126\n",
            "   macro avg     0.6902    0.6885    0.6875      6126\n",
            "weighted avg     0.6986    0.7016    0.6979      6126\n",
            "\n"
          ],
          "name": "stdout"
        }
      ]
    },
    {
      "cell_type": "code",
      "metadata": {
        "id": "FgYDAO_AVbAl",
        "colab_type": "code",
        "colab": {}
      },
      "source": [
        ""
      ],
      "execution_count": 0,
      "outputs": []
    },
    {
      "cell_type": "code",
      "metadata": {
        "id": "uOJm7uR7K1qO",
        "colab_type": "code",
        "colab": {}
      },
      "source": [
        ""
      ],
      "execution_count": 0,
      "outputs": []
    },
    {
      "cell_type": "code",
      "metadata": {
        "id": "u6ph2QCVIarQ",
        "colab_type": "code",
        "colab": {}
      },
      "source": [
        "# glove-twitter-200 vector size: 200 sentece len:50 epochs:30\n",
        "#               precision    recall  f1-score   support\n",
        "\n",
        "#            0       0.68      0.63      0.66      1409\n",
        "#            1       0.69      0.63      0.66      2205\n",
        "#            2       0.74      0.83      0.78      2512\n",
        "\n",
        "#     accuracy                           0.71      6126\n",
        "#    macro avg       0.70      0.70      0.70      6126\n",
        "# weighted avg       0.71      0.71      0.71      6126"
      ],
      "execution_count": 0,
      "outputs": []
    },
    {
      "cell_type": "code",
      "metadata": {
        "id": "sTcy-T6QRX-M",
        "colab_type": "code",
        "colab": {}
      },
      "source": [
        "# word2vec-google-news-300 vector size: 300 sentece len:50 epochs:30\n",
        "#               precision    recall  f1-score   support\n",
        "\n",
        "#            0       0.67      0.59      0.63      1409\n",
        "#            1       0.67      0.57      0.62      2205\n",
        "#            2       0.70      0.84      0.76      2512\n",
        "\n",
        "#     accuracy                           0.69      6126\n",
        "#    macro avg       0.68      0.67      0.67      6126\n",
        "# weighted avg       0.68      0.69      0.68      6126"
      ],
      "execution_count": 0,
      "outputs": []
    }
  ]
}