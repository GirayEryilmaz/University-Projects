{
 "cells": [
  {
   "cell_type": "markdown",
   "metadata": {},
   "source": [
    "# Bioinformatics Assignment 1"
   ]
  },
  {
   "cell_type": "markdown",
   "metadata": {},
   "source": [
    "### Phylogenetic Tree Construction by Sequence-Based Distance"
   ]
  },
  {
   "cell_type": "markdown",
   "metadata": {},
   "source": [
    "In this Jupyter NoteBook, required function definitions are provided to you. You are free to add different functions but I will be using these methods to test your code. "
   ]
  },
  {
   "cell_type": "markdown",
   "metadata": {},
   "source": [
    "#### Reading file"
   ]
  },
  {
   "cell_type": "code",
   "execution_count": 1,
   "metadata": {},
   "outputs": [],
   "source": [
    "# Imports\n",
    "import re"
   ]
  },
  {
   "cell_type": "markdown",
   "metadata": {},
   "source": [
    "Read organisms.txt to a global dictionary. I also keep another one with name:sequence pairs"
   ]
  },
  {
   "cell_type": "code",
   "execution_count": 2,
   "metadata": {},
   "outputs": [],
   "source": [
    "organisms = dict()\n",
    "with open('organisms.txt') as f:\n",
    "    text = f.read()\n",
    "\n",
    "m_iter = re.finditer('(?<=\\')[a-zA-Z0-9_ ]+(\\.\\w+)?', text)\n",
    "while(True):\n",
    "    try:\n",
    "        gb_id = next(m_iter).group()\n",
    "        name = next(m_iter).group()\n",
    "        prot_seq = next(m_iter).group()\n",
    "        organisms[gb_id] = [name, prot_seq]\n",
    "    except StopIteration:\n",
    "        break\n",
    "\n",
    "byname = {}\n",
    "for codename in organisms:\n",
    "    name, seq = organisms[codename]\n",
    "    byname[name.lower()] = seq"
   ]
  },
  {
   "cell_type": "markdown",
   "metadata": {},
   "source": [
    "Method below pretty prints a 2d list for debugging"
   ]
  },
  {
   "cell_type": "code",
   "execution_count": 3,
   "metadata": {},
   "outputs": [],
   "source": [
    "def pp(matrix):\n",
    "    for row in matrix:\n",
    "        print(*row, sep='\\t')"
   ]
  },
  {
   "cell_type": "markdown",
   "metadata": {},
   "source": [
    "Read blosum table to a global variable"
   ]
  },
  {
   "cell_type": "code",
   "execution_count": 4,
   "metadata": {},
   "outputs": [],
   "source": [
    "with open('blosum62_ncbi.txt') as f:\n",
    "    rev_index = {code.lower():i for i, code in enumerate(f.readline().split())}\n",
    "    index = {}\n",
    "    for line in f:\n",
    "        code, *scores = line.split()\n",
    "        index[code.lower()]  = [int(score) for score in scores]\n",
    "        \n",
    "        "
   ]
  },
  {
   "cell_type": "markdown",
   "metadata": {},
   "source": [
    "A method for easy acces to the blosum table"
   ]
  },
  {
   "cell_type": "code",
   "execution_count": 5,
   "metadata": {},
   "outputs": [],
   "source": [
    "def blosum_val(f,s):\n",
    "    return index[f.lower()][rev_index[s.lower()]]"
   ]
  },
  {
   "cell_type": "markdown",
   "metadata": {},
   "source": [
    "#### Algorithm implementation"
   ]
  },
  {
   "cell_type": "markdown",
   "metadata": {},
   "source": [
    "2. Implement Needleman Wunsch algorithm using the [BLOSUM62](!https://www.ncbi.nlm.nih.gov/Class/FieldGuide/BLOSUM62.txt) substitution matrix."
   ]
  },
  {
   "cell_type": "code",
   "execution_count": 6,
   "metadata": {},
   "outputs": [],
   "source": [
    "def needleman_wunsch(seq1, seq2):\n",
    "    seq1 = \" \" + seq1\n",
    "    seq2 = \" \" + seq2\n",
    "    l1 = len(seq1)\n",
    "    l2 = len(seq2)\n",
    "    matrix = [[0]*l2 for _ in range(l1)]\n",
    "\n",
    "    indel = -1 #blosum_val('a','*')\n",
    "\n",
    "    # init first row\n",
    "    matrix[0] = [indel*i for i in range(l2)]\n",
    "\n",
    "\n",
    "    # init first column\n",
    "    for j in range(l1):\n",
    "        matrix[j][0] = indel*j\n",
    "        \n",
    "    path = \"\"\n",
    "    s1_best_alignment = \"\"\n",
    "    s2_best_alignment = \"\"\n",
    "\n",
    "\n",
    "    for i in range(1, l1):\n",
    "        for j in range(1, l2):\n",
    "\n",
    "            up = matrix[i-1][j] + indel\n",
    "            left = matrix[i][j-1] + indel\n",
    "            diagonal = matrix[i-1][j-1] + blosum_val(seq1[i],seq2[j])\n",
    "            \n",
    "            matrix[i][j] = max(up, left, diagonal)\n",
    "\n",
    "    minus_inf = float('-inf')\n",
    "    \n",
    "    # back track\n",
    "    i = l1-1\n",
    "    j = l2-1\n",
    "    while(i>0 or j>0): \n",
    "        up = matrix[i-1][j] if i - 1 >= 0 else minus_inf\n",
    "        left = matrix[i][j-1] if j - 1 >= 0  else minus_inf\n",
    "        diagonal = matrix[i-1][j-1] if i - 1 >= 0 and j - 1 >= 0 else minus_inf\n",
    "        \n",
    "        if diagonal >= up and diagonal >= left:\n",
    "            s1_best_alignment = seq1[i] + s1_best_alignment\n",
    "            s2_best_alignment = seq2[j] + s2_best_alignment\n",
    "            path= 'D' + path\n",
    "            i-=1\n",
    "            j-=1\n",
    "        elif i>0 and up >= left and up >= diagonal:\n",
    "            s2_best_alignment = '-' + s2_best_alignment\n",
    "            s1_best_alignment = seq1[i] + s1_best_alignment\n",
    "            path= 'U' + path\n",
    "            i-=1\n",
    "\n",
    "        elif j>0 and left >= up  and left >= diagonal:\n",
    "            s1_best_alignment = '-' + s1_best_alignment\n",
    "            s2_best_alignment = seq2[j] + s2_best_alignment\n",
    "            path= 'L' + path\n",
    "            j-=1\n",
    "\n",
    "\n",
    "        \n",
    "\n",
    "#     print(path)\n",
    "#     pp(matrix)\n",
    "    best_alignment_score_needleman_wunsch = matrix[-1][-1]\n",
    "    best_alignment_needleman_wunsch = s1_best_alignment + '<==>' + s2_best_alignment\n",
    "    return best_alignment_score_needleman_wunsch, best_alignment_needleman_wunsch #, matrix, path\n",
    "         \n"
   ]
  },
  {
   "cell_type": "markdown",
   "metadata": {},
   "source": [
    "3. Implement Smith Waterman algorithm using the [BLOSUM62](!https://www.ncbi.nlm.nih.gov/Class/FieldGuide/BLOSUM62.txt) substitution matrix."
   ]
  },
  {
   "cell_type": "code",
   "execution_count": 7,
   "metadata": {},
   "outputs": [],
   "source": [
    "def smith_waterman(seq1, seq2):\n",
    "    seq1 = \" \" + seq1\n",
    "    seq2 = \" \" + seq2\n",
    "    l1 = len(seq1)\n",
    "    l2 = len(seq2)\n",
    "    matrix = [[0]*l2 for _ in range(l1)]\n",
    "\n",
    "    indel = -1 #blosum_val('a','*')\n",
    "\n",
    "    # init first row\n",
    "    matrix[0] = [indel*i for i in range(l2)]\n",
    "\n",
    "\n",
    "    # init first column\n",
    "    for j in range(l1):\n",
    "        matrix[j][0] = indel*j\n",
    "        \n",
    "\n",
    "    for i in range(1, l1):\n",
    "        for j in range(1, l2):\n",
    "            up = matrix[i-1][j] + indel\n",
    "            left = matrix[i][j-1] + indel\n",
    "            diagonal = matrix[i-1][j-1] + blosum_val(seq1[i],seq2[j])\n",
    "            free_ride = 0\n",
    "            \n",
    "            matrix[i][j] = max(up, left, diagonal, free_ride)\n",
    "\n",
    "    minus_inf = float('-inf')\n",
    "    \n",
    "    # back track\n",
    "\n",
    "    # find end of best local allignment\n",
    "    max_ = float('-inf')\n",
    "    winner = () # will hold end of local allignment\n",
    "    for i in range(l1):\n",
    "        for j in range(l2):\n",
    "            if matrix[i][j] > max_:\n",
    "                max_ = matrix[i][j]\n",
    "                winner = (i, j)\n",
    "    \n",
    "    \n",
    "    path = \"\"\n",
    "    s1_best_alignment = \"\"\n",
    "    s2_best_alignment = \"\"\n",
    "    i = winner[0]\n",
    "    j = winner[1]\n",
    "    the_start = (i, j) # evantually will hold start of local allignment\n",
    "    current = max_\n",
    "    while(current > 0): #since we are seeking the 0, we might as well != 0\n",
    "        \n",
    "        \n",
    "        up = matrix[i-1][j]\n",
    "        left = matrix[i][j-1]\n",
    "        diagonal = matrix[i-1][j-1]\n",
    "        \n",
    "        if diagonal >= left and diagonal >= up:\n",
    "            s1_best_alignment = seq1[i] + s1_best_alignment\n",
    "            s2_best_alignment = seq2[j] + s2_best_alignment\n",
    "            path= 'D' + path\n",
    "            i-=1\n",
    "            j-=1\n",
    "        elif up >= left and up >= diagonal:\n",
    "            s2_best_alignment = '-' + s2_best_alignment\n",
    "            s1_best_alignment = seq1[i] + s1_best_alignment\n",
    "            path= 'U' + path\n",
    "            i-=1\n",
    "        elif left >= up and left >= diagonal:\n",
    "            s1_best_alignment = '-' + s1_best_alignment\n",
    "            s2_best_alignment = seq2[j] + s2_best_alignment\n",
    "            path= 'L' + path\n",
    "            j-=1\n",
    "        \n",
    "        the_start = (i, j)\n",
    "        current = matrix[i][j]\n",
    "\n",
    "        \n",
    "#     print(winner)\n",
    "#     print(the_start)\n",
    "#     print(path)\n",
    "#     pp(matrix)\n",
    "    best_alignment_score_smith_waterman = matrix[winner[0]][winner[1]]\n",
    "    best_alignment_smith_waterman =  s1_best_alignment + '<==>' + s2_best_alignment\n",
    "    return best_alignment_score_smith_waterman, best_alignment_smith_waterman #, matrix\n",
    "         \n"
   ]
  },
  {
   "cell_type": "markdown",
   "metadata": {},
   "source": [
    "#### Calculate Score Matrix"
   ]
  },
  {
   "cell_type": "markdown",
   "metadata": {},
   "source": [
    "4. Using Needleman Wunsch and Smith Waterman algorithms you will find the **scores**, i.e. similarities between any two sequences. Now, crete an NxN score matrix where N is the length of organisms dictionary and calculate the scores of each organism pairs."
   ]
  },
  {
   "cell_type": "code",
   "execution_count": 8,
   "metadata": {},
   "outputs": [],
   "source": [
    "def calculate_score_matrix(organisms, algorithm):\n",
    "    # Calculate score matrix using smith_waterman() or needleman_wunsch()\n",
    "    # algorithm is the calleble ie the function it self\n",
    "    score_matrix = [[0]*len(organisms) for _ in range(len(organisms))]\n",
    "    for i, org1 in enumerate((organisms)):\n",
    "        for j, org2 in enumerate((organisms)):\n",
    "            n1, seq1 = organisms[org1]\n",
    "            n2, seq2 = organisms[org2]\n",
    "            score, *rest= algorithm(seq1, seq2)\n",
    "            score_matrix[i][j] = score          \n",
    "            \n",
    "    return score_matrix"
   ]
  },
  {
   "cell_type": "markdown",
   "metadata": {},
   "source": [
    "#### Calculate Distance Matrix"
   ]
  },
  {
   "cell_type": "markdown",
   "metadata": {},
   "source": [
    "5. Now, you will use the score matrices to calculate **distances** between organism pairs. To do that;\n",
    "    1. Find the maximum values of the score matrices.\n",
    "    2. Subtract the each element of these matrices from the corresponding maximum values.\n",
    "    3. Store resulting NxN matrices."
   ]
  },
  {
   "cell_type": "markdown",
   "metadata": {},
   "source": [
    "Below is a helper method for using builtin max function on a 2D list "
   ]
  },
  {
   "cell_type": "code",
   "execution_count": 9,
   "metadata": {},
   "outputs": [],
   "source": [
    "def flatten(matrix):\n",
    "    for row in matrix:\n",
    "        yield from row"
   ]
  },
  {
   "cell_type": "code",
   "execution_count": 10,
   "metadata": {},
   "outputs": [],
   "source": [
    "# Calculate the distances between organism pairs.\n",
    "def calculate_distance_matrix(score_matrix):\n",
    "    #  organisms and algorithm parameters were not needed\n",
    "    \n",
    "    max_ = max(flatten(score_matrix))\n",
    "    N = len(score_matrix)\n",
    "    distance_matrix = [[0]*N for _ in range(N)]\n",
    "    for i in range(N):\n",
    "        for j in range(N):\n",
    "            distance_matrix[i][j] = max_ -  score_matrix[i][j]\n",
    "\n",
    "    return distance_matrix"
   ]
  },
  {
   "cell_type": "markdown",
   "metadata": {},
   "source": [
    "#### Generate Phylogenetic Tree"
   ]
  },
  {
   "cell_type": "markdown",
   "metadata": {},
   "source": [
    "6. Finally, use below code to generate phylogenetic trees according to both Needleman Wunsch and Smith Waterman distance matrices."
   ]
  },
  {
   "cell_type": "code",
   "execution_count": 11,
   "metadata": {},
   "outputs": [],
   "source": [
    "from scipy.cluster.hierarchy import linkage, dendrogram\n",
    "import pylab\n",
    "\n",
    "def generate_phylogenetic_tree(organisms, distance_matrix, method_name= \"NW\"):\n",
    "    # i had to slightly change this function because \n",
    "    # it was using code names of the organisms as label instead of names (like 'KM096864.1' instead of 'chicken')\n",
    "    average = linkage(distance_matrix, \"average\")\n",
    "    dendrogram(average, labels=list(organisms[k][0] for k in (organisms.keys())), orientation=\"left\", leaf_font_size=10)\n",
    "    pylab.subplots_adjust(bottom=0.1, left=0.2, right=1.0, top=1.0)\n",
    "    pylab.savefig(\"GirayEryilmaz_\" + method_name +\".jpg\")\n"
   ]
  },
  {
   "cell_type": "markdown",
   "metadata": {},
   "source": [
    "#### Function Calls"
   ]
  },
  {
   "cell_type": "code",
   "execution_count": 12,
   "metadata": {},
   "outputs": [
    {
     "name": "stdout",
     "output_type": "stream",
     "text": [
      "needleman wunsch best alignment score: 1366\n",
      "MAHQAHSYHMVDPSPWPIFGAAAALLTTSGLIMWFHYNTST-LL-MAGLLSMLLVMLQWWRDVIRESTFQGHHTPTVQKGLRYGMILFITSEVFFFLGFFWAFFHSSLAPTPELGGQWPPTGINPLNPLDVPLLNTAILLASGVTVTWAHHSITEGNRKQAIHALTLTIAL-GLY-FTALQAMEYHETSFSIADSIYGSTFFVATGFHGLHVIIGSSFLTVCLLRLIKFHFT-SNHHFGFEAAAWYWHFVDIVWLFLYMSMYWWGSC\n",
      "MAHQAHSYHMVDPSPWPIFGAAAALLTTSGLIMWFHYSS-TTLLTMG-LLSMLLVMLQWWRDVVRESTFQGHHTPTVQKGLRYGMILFITSEAFFFLGFFWAFFHSSLAPTPELGGQWPPTGVKPLNPLEVPLLNTAILLASGVTVTWAHHSITEGNRKQAIHALTLTI-LLGF-YFTALQAMEYHEASFSIADSVYGSTFFVATGFHGLHVIIGSSFLTVCLLRLIKFHFTPN-HHFGFEAAAWYWHFVDIIWLFLYMSMYWWGS-\n"
     ]
    }
   ],
   "source": [
    "\n",
    "seq1 = organisms['EF153719.1'][1] # Turkey organism\n",
    "seq2 = organisms['KM096864.1'][1] # Chicken organism\n",
    "\n",
    "# Functions tests\n",
    "best_alignment_score_needleman_wunsch, best_alignment_needleman_wunsch = needleman_wunsch(seq1, seq2)\n",
    "print('needleman wunsch best alignment score:', best_alignment_score_needleman_wunsch)\n",
    "nws1, nws2 = best_alignment_needleman_wunsch.split('<==>')\n",
    "print(nws1)\n",
    "print(nws2)\n",
    "\n"
   ]
  },
  {
   "cell_type": "code",
   "execution_count": 13,
   "metadata": {},
   "outputs": [
    {
     "name": "stdout",
     "output_type": "stream",
     "text": [
      "smith waterman best allignment score 1367\n",
      "MAHQAHSYHMVDPSPWPIFGAAAALLTTSGLIMWFHYNTST-LL-MAGLLSMLLVMLQWWRDVIRESTFQGHHTPTVQKGLRYGMILFITSEVFFFLGFFWAFFHSSLAPTPELGGQWPPTGINPLNPLDVPLLNTAILLASGVTVTWAHHSITEGNRKQAIHALTLTIAL-GLY-FTALQAMEYHETSFSIADSIYGSTFFVATGFHGLHVIIGSSFLTVCLLRLIKFHFT-SNHHFGFEAAAWYWHFVDIVWLFLYMSMYWWGS\n",
      "MAHQAHSYHMVDPSPWPIFGAAAALLTTSGLIMWFHYSS-TTLLTMG-LLSMLLVMLQWWRDVVRESTFQGHHTPTVQKGLRYGMILFITSEAFFFLGFFWAFFHSSLAPTPELGGQWPPTGVKPLNPLEVPLLNTAILLASGVTVTWAHHSITEGNRKQAIHALTLTI-LLGF-YFTALQAMEYHEASFSIADSVYGSTFFVATGFHGLHVIIGSSFLTVCLLRLIKFHFTPN-HHFGFEAAAWYWHFVDIIWLFLYMSMYWWGS\n"
     ]
    }
   ],
   "source": [
    "\n",
    "best_alignment_score_smith_waterman, best_alignment_smith_waterman = smith_waterman(seq1, seq2)\n",
    "print('smith waterman best allignment score', best_alignment_score_smith_waterman)\n",
    "sws1, sws2 = best_alignment_smith_waterman.split('<==>')\n",
    "print(sws1)\n",
    "print(sws2)"
   ]
  },
  {
   "cell_type": "code",
   "execution_count": 14,
   "metadata": {},
   "outputs": [
    {
     "data": {
      "image/png": "[encoded data removed]",
      "text/plain": [
       "<Figure size 432x288 with 1 Axes>"
      ]
     },
     "metadata": {
      "needs_background": "light"
     },
     "output_type": "display_data"
    }
   ],
   "source": [
    "# Phylogenetic tree test\n",
    "algorithm = needleman_wunsch\n",
    "score_matrix = calculate_score_matrix(organisms, algorithm)\n",
    "distance_matrix = calculate_distance_matrix(score_matrix)\n",
    "generate_phylogenetic_tree(organisms, distance_matrix, \"NW\")"
   ]
  },
  {
   "cell_type": "code",
   "execution_count": 15,
   "metadata": {},
   "outputs": [
    {
     "data": {
      "image/png": "[encoded data removed]",
      "text/plain": [
       "<Figure size 432x288 with 1 Axes>"
      ]
     },
     "metadata": {
      "needs_background": "light"
     },
     "output_type": "display_data"
    }
   ],
   "source": [
    "# Phylogenetic tree test\n",
    "algorithm = smith_waterman\n",
    "score_matrix = calculate_score_matrix(organisms, algorithm)\n",
    "distance_matrix = calculate_distance_matrix(score_matrix)\n",
    "generate_phylogenetic_tree(organisms, distance_matrix, \"SW\")"
   ]
  },
  {
   "cell_type": "markdown",
   "metadata": {},
   "source": [
    "#### Comments"
   ]
  },
  {
   "cell_type": "markdown",
   "metadata": {},
   "source": [
    "7. Comment on the results of two output images."
   ]
  },
  {
   "cell_type": "markdown",
   "metadata": {},
   "source": [
    "I believe my outputs are very reasonable.  Fish are together, chicken and turkey are closely related and mammals are also close together. Especially horse types. The smith - waterman and needleman - wunsch algorithms gave similar results but I believe this was to be expected as well. If the creatures are similar, both the best global alignment and the local alignment scores are high and they are both low when the creatures are dissimilar thus the graphs are similar.\n",
    "Note: changing indel value aka gap penalty changes the results slightly."
   ]
  },
  {
   "cell_type": "markdown",
   "metadata": {},
   "source": [
    "Notes: \n",
    "1. Your are not allowed to use Numpy.\n",
    "2. You are not allowed to use any libraries to find the Needleman Wunsch and Smith Waterman scores.\n",
    "3. You can only use standard libraries apart from the given codes.\n",
    "4. Please submit your assignment using Moodle. Upload a single zip file named as YourNameSurname.zip. Your zip file should include your report, your source code, and the corresponding read.me file. You can use any programming language of your choice. But, your read.me file should clearly explain how to run your program.\n"
   ]
  }
 ],
 "metadata": {
  "kernelspec": {
   "display_name": "Python 3",
   "language": "python",
   "name": "python3"
  },
  "language_info": {
   "codemirror_mode": {
    "name": "ipython",
    "version": 3
   },
   "file_extension": ".py",
   "mimetype": "text/x-python",
   "name": "python",
   "nbconvert_exporter": "python",
   "pygments_lexer": "ipython3",
   "version": "3.7.5"
  }
 },
 "nbformat": 4,
 "nbformat_minor": 2
}
