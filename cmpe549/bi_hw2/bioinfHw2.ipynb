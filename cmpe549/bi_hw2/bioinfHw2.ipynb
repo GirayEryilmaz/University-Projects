{
 "cells": [
  {
   "cell_type": "markdown",
   "metadata": {},
   "source": [
    "The code is written in python 3.7.5, it doesn't require any 3rd party libraries or numpy\n",
    "\n",
    "\n",
    "Since I mis understood the project I have implemented both the orjinal and the simplified upgma."
   ]
  },
  {
   "cell_type": "code",
   "execution_count": 1,
   "metadata": {},
   "outputs": [],
   "source": [
    "def pprint_dict(dct):\n",
    "    \"\"\"\n",
    "    this function prints a dictionary like a matrix\n",
    "    it is for debugging purposes, printing intermediate tables\n",
    "    \"\"\"\n",
    "    for n in dct:\n",
    "#         print(n, end='\\t')\n",
    "        for d in dct[n].values():\n",
    "            print(d, end = '\\t')\n",
    "        print()"
   ]
  },
  {
   "cell_type": "markdown",
   "metadata": {},
   "source": [
    "#### Task 1"
   ]
  },
  {
   "cell_type": "markdown",
   "metadata": {},
   "source": [
    "#### read the distant matrix to variable dm"
   ]
  },
  {
   "cell_type": "code",
   "execution_count": 2,
   "metadata": {},
   "outputs": [
    {
     "name": "stdout",
     "output_type": "stream",
     "text": [
      "[0.0]\n",
      "[1.0, 0.0]\n",
      "[13.0, 12.0, 0.0]\n",
      "[17.0, 16.0, 10.0, 0.0]\n",
      "[16.0, 15.0, 8.0, 1.0, 0.0]\n",
      "[13.0, 12.0, 4.0, 5.0, 4.0, 0.0]\n",
      "[12.0, 11.0, 6.0, 11.0, 10.0, 6.0, 0.0]\n"
     ]
    }
   ],
   "source": [
    "\n",
    "with open('distance_matrix.txt') as dmf:\n",
    "    dm = [list(float(num) for num in line.rstrip()[1:-1].split(', ')) for line in dmf]\n",
    "print(*dm, sep='\\n')"
   ]
  },
  {
   "cell_type": "markdown",
   "metadata": {},
   "source": [
    "#### Complete distant matrix to a full symmetrical matrix, put it into full_dm variable"
   ]
  },
  {
   "cell_type": "code",
   "execution_count": 3,
   "metadata": {},
   "outputs": [
    {
     "data": {
      "text/plain": [
       "[[0.0, 1.0, 13.0, 17.0, 16.0, 13.0, 12.0],\n",
       " [1.0, 0.0, 12.0, 16.0, 15.0, 12.0, 11.0],\n",
       " [13.0, 12.0, 0.0, 10.0, 8.0, 4.0, 6.0],\n",
       " [17.0, 16.0, 10.0, 0.0, 1.0, 5.0, 11.0],\n",
       " [16.0, 15.0, 8.0, 1.0, 0.0, 4.0, 10.0],\n",
       " [13.0, 12.0, 4.0, 5.0, 4.0, 0.0, 6.0],\n",
       " [12.0, 11.0, 6.0, 11.0, 10.0, 6.0, 0.0]]"
      ]
     },
     "execution_count": 3,
     "metadata": {},
     "output_type": "execute_result"
    }
   ],
   "source": [
    "full_dm = []\n",
    "max_ = len(max(dm, key=len))\n",
    "for i in range(max_):\n",
    "    row = []\n",
    "    for j in range(max_):\n",
    "        if i>=j:\n",
    "            row.append(dm[i][j])\n",
    "        else:\n",
    "            row.append(dm[j][i])\n",
    "    full_dm.append(row)\n",
    "full_dm\n",
    "        "
   ]
  },
  {
   "cell_type": "markdown",
   "metadata": {},
   "source": [
    "Read the labels into labels variable,\n",
    "also define a mapping for matching labels with indices"
   ]
  },
  {
   "cell_type": "code",
   "execution_count": 4,
   "metadata": {},
   "outputs": [],
   "source": [
    "# read labels\n",
    "with open('labels.txt') as lf:\n",
    "    labels = [frozenset((s[1:-1], )) for s in lf.read().rstrip()[1:-1].split(', ')]\n",
    "mapping = {label:i for (i,label) in enumerate(labels)}\n",
    "rev_mapping = {i:label for (i,label) in enumerate(labels)}"
   ]
  },
  {
   "cell_type": "code",
   "execution_count": 5,
   "metadata": {},
   "outputs": [
    {
     "name": "stdout",
     "output_type": "stream",
     "text": [
      "[frozenset({'Man'}), frozenset({'Monkey'}), frozenset({'Dog'}), frozenset({'Horse'}), frozenset({'Donkey'}), frozenset({'Pig'}), frozenset({'Rabbit'})]\n",
      "{frozenset({'Man'}): 0, frozenset({'Monkey'}): 1, frozenset({'Dog'}): 2, frozenset({'Horse'}): 3, frozenset({'Donkey'}): 4, frozenset({'Pig'}): 5, frozenset({'Rabbit'}): 6}\n",
      "{0: frozenset({'Man'}), 1: frozenset({'Monkey'}), 2: frozenset({'Dog'}), 3: frozenset({'Horse'}), 4: frozenset({'Donkey'}), 5: frozenset({'Pig'}), 6: frozenset({'Rabbit'})}\n"
     ]
    }
   ],
   "source": [
    "print(labels)\n",
    "print(mapping)\n",
    "print(rev_mapping)"
   ]
  },
  {
   "cell_type": "markdown",
   "metadata": {},
   "source": [
    "Prepare a history dictionary for keeping string representation of intermediate clusters"
   ]
  },
  {
   "cell_type": "code",
   "execution_count": 6,
   "metadata": {},
   "outputs": [
    {
     "name": "stdout",
     "output_type": "stream",
     "text": [
      "{frozenset({'Man'}): 'Man', frozenset({'Monkey'}): 'Monkey', frozenset({'Dog'}): 'Dog', frozenset({'Horse'}): 'Horse', frozenset({'Donkey'}): 'Donkey', frozenset({'Pig'}): 'Pig', frozenset({'Rabbit'}): 'Rabbit'}\n"
     ]
    }
   ],
   "source": [
    "history = dict()\n",
    "for i, c in rev_mapping.items():\n",
    "#     print(i,c)\n",
    "    history[c] = list(c)[0]\n",
    "print(history)"
   ]
  },
  {
   "cell_type": "markdown",
   "metadata": {},
   "source": [
    "Hold distances in a dictionary so that it is easy to find and remove distances"
   ]
  },
  {
   "cell_type": "code",
   "execution_count": 7,
   "metadata": {},
   "outputs": [],
   "source": [
    "dist_dict = {label_set:dict() for label_set in labels}\n",
    "for i, label_set1 in enumerate(labels):\n",
    "    for j, label_set2 in enumerate(labels):\n",
    "        if i<j:\n",
    "            continue\n",
    "        try:\n",
    "            dist_dict[label_set1][label_set2]=dm[i][j]\n",
    "        except IndexError:\n",
    "            dist_dict[label_set1][label_set2]=dm[j][i]"
   ]
  },
  {
   "cell_type": "code",
   "execution_count": 8,
   "metadata": {},
   "outputs": [
    {
     "name": "stdout",
     "output_type": "stream",
     "text": [
      "0.0\t\n",
      "1.0\t0.0\t\n",
      "13.0\t12.0\t0.0\t\n",
      "17.0\t16.0\t10.0\t0.0\t\n",
      "16.0\t15.0\t8.0\t1.0\t0.0\t\n",
      "13.0\t12.0\t4.0\t5.0\t4.0\t0.0\t\n",
      "12.0\t11.0\t6.0\t11.0\t10.0\t6.0\t0.0\t\n"
     ]
    }
   ],
   "source": [
    "pprint_dict(dist_dict)"
   ]
  },
  {
   "cell_type": "markdown",
   "metadata": {},
   "source": [
    "#### Task 2"
   ]
  },
  {
   "cell_type": "code",
   "execution_count": 9,
   "metadata": {},
   "outputs": [],
   "source": [
    "def argmin_on_dict(dct, ignore_zero=True):\n",
    "    \"\"\"\n",
    "    Finds the smallest distance and return it as well as the pair of that distance \n",
    "    ignores zeros by default\n",
    "    \"\"\"\n",
    "    min_ = float('inf')\n",
    "    closests = (None, None)\n",
    "    for i, c1 in enumerate(dct):\n",
    "        for j, c2 in enumerate(dct[c1]):\n",
    "            dist = dct[c1][c2]\n",
    "            if ignore_zero and dist==0:\n",
    "                continue\n",
    "            if dist < min_:\n",
    "                min_ = dist\n",
    "                closests = (c1, c2)\n",
    "    return min_, closests"
   ]
  },
  {
   "cell_type": "code",
   "execution_count": 10,
   "metadata": {},
   "outputs": [
    {
     "data": {
      "text/plain": [
       "(1.0, (frozenset({'Monkey'}), frozenset({'Man'})))"
      ]
     },
     "execution_count": 10,
     "metadata": {},
     "output_type": "execute_result"
    }
   ],
   "source": [
    "argmin_on_dict(dist_dict, ignore_zero=True)"
   ]
  },
  {
   "cell_type": "markdown",
   "metadata": {},
   "source": [
    "#### Task 3"
   ]
  },
  {
   "cell_type": "markdown",
   "metadata": {},
   "source": [
    "Below 2 cells are the orijinal upgma. you can find the simplified upgma later down."
   ]
  },
  {
   "cell_type": "code",
   "execution_count": 11,
   "metadata": {},
   "outputs": [
    {
     "name": "stdout",
     "output_type": "stream",
     "text": [
      "--------------------0----------------------\n",
      "0.0\t\n",
      "1.0\t0.0\t\n",
      "13.0\t12.0\t0.0\t\n",
      "17.0\t16.0\t10.0\t0.0\t\n",
      "16.0\t15.0\t8.0\t1.0\t0.0\t\n",
      "13.0\t12.0\t4.0\t5.0\t4.0\t0.0\t\n",
      "12.0\t11.0\t6.0\t11.0\t10.0\t6.0\t0.0\t\n",
      "--------------------1----------------------\n",
      "0.0\t\n",
      "10.0\t0.0\t\n",
      "8.0\t1.0\t0.0\t\n",
      "4.0\t5.0\t4.0\t0.0\t\n",
      "6.0\t11.0\t10.0\t6.0\t0.0\t\n",
      "12.5\t16.5\t15.5\t12.5\t11.5\t0\t\n",
      "--------------------2----------------------\n",
      "0.0\t\n",
      "4.0\t0.0\t\n",
      "6.0\t6.0\t0.0\t\n",
      "12.5\t12.5\t11.5\t0\t\n",
      "9.0\t4.5\t10.5\t16.0\t0\t\n",
      "--------------------3----------------------\n",
      "0.0\t\n",
      "11.5\t0\t\n",
      "10.5\t16.0\t0\t\n",
      "6.0\t12.5\t6.75\t0\t\n",
      "--------------------4----------------------\n",
      "0\t\n",
      "16.0\t0\t\n",
      "12.166666666666666\t8.0\t0\t\n",
      "--------------------5----------------------\n",
      "0\t\n",
      "13.7\t0\t\n",
      "--------------------6----------------------\n",
      "0\t\n"
     ]
    }
   ],
   "source": [
    "orijinal_to_print = []\n",
    "step = 1\n",
    "print('--------------------{}----------------------'.format(0))\n",
    "pprint_dict(dist_dict)\n",
    "while True:\n",
    "    min_, (c1, c2) = argmin_on_dict(dist_dict, ignore_zero=True)\n",
    "    if min_ == float('inf'): # break if no distances are left, meaning all the clusters are merged already\n",
    "        break\n",
    "    new_cluster = c1.union(c2)\n",
    "    history[new_cluster] = \"({}, {})\".format(history[c2],history[c1])\n",
    "    orijinal_to_print.append(history[new_cluster])\n",
    "\n",
    "    # calculate new distances\n",
    "    new_dists = {}\n",
    "    for c_other in dist_dict:\n",
    "        if not (c_other == c1 or c_other == c2):\n",
    "            total = 0\n",
    "            count = len(c_other)*len(c1) + len(c_other)*len(c2)\n",
    "            for sub_c_other in c_other:\n",
    "                for sub_c1 in c1:\n",
    "                    total += full_dm[mapping[frozenset((sub_c1,))]][mapping[frozenset((sub_c_other,))]]\n",
    "                for sub_c2 in c2:\n",
    "                    total += full_dm[mapping[frozenset((sub_c2,))]][mapping[frozenset((sub_c_other,))]]\n",
    "            new_dists[c_other] = total/count\n",
    "    new_dists[new_cluster] = 0\n",
    "\n",
    "    # Add the new distnaces to the table\n",
    "    dist_dict[new_cluster] = new_dists\n",
    "    \n",
    "    # remove old distances which are not needed anymore\n",
    "    del dist_dict[c1]\n",
    "    del dist_dict[c2]\n",
    "    for c_other in dist_dict:\n",
    "        try:\n",
    "            del dist_dict[c_other][c1]\n",
    "        except KeyError:\n",
    "            pass\n",
    "        try:\n",
    "            del dist_dict[c_other][c2]\n",
    "        except KeyError:\n",
    "            pass\n",
    "    print('--------------------{}----------------------'.format(step))\n",
    "    step+=1\n",
    "    pprint_dict(dist_dict)"
   ]
  },
  {
   "cell_type": "markdown",
   "metadata": {},
   "source": [
    "Results of the original UPGMA are below, results of the simplfied UPGMA are at the bottom"
   ]
  },
  {
   "cell_type": "code",
   "execution_count": 12,
   "metadata": {},
   "outputs": [
    {
     "name": "stdout",
     "output_type": "stream",
     "text": [
      "1. (Man, Monkey)\n",
      "2. (Horse, Donkey)\n",
      "3. (Dog, Pig)\n",
      "4. (Rabbit, (Dog, Pig))\n",
      "5. ((Horse, Donkey), (Rabbit, (Dog, Pig)))\n",
      "6. ((Man, Monkey), ((Horse, Donkey), (Rabbit, (Dog, Pig))))\n"
     ]
    }
   ],
   "source": [
    "for i, p in enumerate(orijinal_to_print):\n",
    "    print(\"{}. {}\".format(i+1, p))"
   ]
  },
  {
   "cell_type": "markdown",
   "metadata": {},
   "source": [
    "#### Below is the simplified upgma algorithm."
   ]
  },
  {
   "cell_type": "code",
   "execution_count": 13,
   "metadata": {},
   "outputs": [
    {
     "name": "stdout",
     "output_type": "stream",
     "text": [
      "--------------------0----------------------\n",
      "0.0\t\n",
      "1.0\t0.0\t\n",
      "13.0\t12.0\t0.0\t\n",
      "17.0\t16.0\t10.0\t0.0\t\n",
      "16.0\t15.0\t8.0\t1.0\t0.0\t\n",
      "13.0\t12.0\t4.0\t5.0\t4.0\t0.0\t\n",
      "12.0\t11.0\t6.0\t11.0\t10.0\t6.0\t0.0\t\n",
      "--------------------1----------------------\n",
      "0.0\t\n",
      "10.0\t0.0\t\n",
      "8.0\t1.0\t0.0\t\n",
      "4.0\t5.0\t4.0\t0.0\t\n",
      "6.0\t11.0\t10.0\t6.0\t0.0\t\n",
      "12.5\t16.5\t15.5\t12.5\t11.5\t0\t\n",
      "--------------------2----------------------\n",
      "0.0\t\n",
      "4.0\t0.0\t\n",
      "6.0\t6.0\t0.0\t\n",
      "12.5\t12.5\t11.5\t0\t\n",
      "9.0\t4.5\t10.5\t16.0\t0\t\n",
      "--------------------3----------------------\n",
      "0.0\t\n",
      "11.5\t0\t\n",
      "10.5\t16.0\t0\t\n",
      "6.0\t12.5\t6.75\t0\t\n",
      "--------------------4----------------------\n",
      "0\t\n",
      "16.0\t0\t\n",
      "12.0\t8.625\t0\t\n",
      "--------------------5----------------------\n",
      "0\t\n",
      "14.0\t0\t\n",
      "--------------------6----------------------\n",
      "0\t\n"
     ]
    }
   ],
   "source": [
    "del dist_dict\n",
    "\n",
    "dist_dict = {label_set:dict() for label_set in labels}\n",
    "for i, label_set1 in enumerate(labels):\n",
    "    for j, label_set2 in enumerate(labels):\n",
    "        if i<j:\n",
    "            continue\n",
    "        try:\n",
    "            dist_dict[label_set1][label_set2]=dm[i][j]\n",
    "        except IndexError:\n",
    "            dist_dict[label_set1][label_set2]=dm[j][i]\n",
    "\n",
    "simple_to_print = []\n",
    "step = 1\n",
    "print('--------------------{}----------------------'.format(0))\n",
    "pprint_dict(dist_dict)\n",
    "while True:\n",
    "    min_, (c1, c2) = argmin_on_dict(dist_dict, ignore_zero=True)\n",
    "    if min_ == float('inf'): # break if no distances are left, meaning all the clusters are merged already\n",
    "        break\n",
    "    new_cluster = c1.union(c2)\n",
    "    history[new_cluster] = \"({}, {})\".format(history[c2],history[c1])\n",
    "    simple_to_print.append(history[new_cluster])\n",
    "\n",
    "    # calculate new distances\n",
    "    new_dists = {}\n",
    "    for c_other in dist_dict:\n",
    "        if not (c_other == c1 or c_other == c2):\n",
    "            try:\n",
    "                d1 = dist_dict[c_other][c1]\n",
    "            except:\n",
    "                d1 = dist_dict[c1][c_other]\n",
    "            try:\n",
    "                d2 = dist_dict[c_other][c2]\n",
    "            except:\n",
    "                d2 = dist_dict[c2][c_other]               \n",
    "            new_dists[c_other] = (d1+d2)/2\n",
    "    new_dists[new_cluster] = 0\n",
    "\n",
    "    # Add the new distnaces to the table\n",
    "    dist_dict[new_cluster] = new_dists\n",
    "    \n",
    "    # remove old distances which are not needed anymore\n",
    "    del dist_dict[c1]\n",
    "    del dist_dict[c2]\n",
    "    for c_other in dist_dict:\n",
    "        try:\n",
    "            del dist_dict[c_other][c1]\n",
    "        except KeyError:\n",
    "            pass\n",
    "        try:\n",
    "            del dist_dict[c_other][c2]\n",
    "        except KeyError:\n",
    "            pass\n",
    "    print('--------------------{}----------------------'.format(step))\n",
    "    step+=1\n",
    "    pprint_dict(dist_dict)"
   ]
  },
  {
   "cell_type": "markdown",
   "metadata": {},
   "source": [
    "#### Task 4 - just print intermediate clusters contained in a list\n",
    "### THIS IS THE SIMPLIFIED UPGMA results as requested in the description"
   ]
  },
  {
   "cell_type": "code",
   "execution_count": 14,
   "metadata": {},
   "outputs": [
    {
     "name": "stdout",
     "output_type": "stream",
     "text": [
      "1. (Man, Monkey)\n",
      "2. (Horse, Donkey)\n",
      "3. (Dog, Pig)\n",
      "4. (Rabbit, (Dog, Pig))\n",
      "5. ((Horse, Donkey), (Rabbit, (Dog, Pig)))\n",
      "6. ((Man, Monkey), ((Horse, Donkey), (Rabbit, (Dog, Pig))))\n"
     ]
    }
   ],
   "source": [
    "for i, p in enumerate(simple_to_print):\n",
    "    print(\"{}. {}\".format(i+1, p))"
   ]
  },
  {
   "cell_type": "markdown",
   "metadata": {},
   "source": [
    "My results are the same as the given example in the description. But the sorting is different yet the clusters are the same.\n"
   ]
  }
 ],
 "metadata": {
  "kernelspec": {
   "display_name": "Python 3",
   "language": "python",
   "name": "python3"
  },
  "language_info": {
   "codemirror_mode": {
    "name": "ipython",
    "version": 3
   },
   "file_extension": ".py",
   "mimetype": "text/x-python",
   "name": "python",
   "nbconvert_exporter": "python",
   "pygments_lexer": "ipython3",
   "version": "3.7.5"
  }
 },
 "nbformat": 4,
 "nbformat_minor": 2
}
